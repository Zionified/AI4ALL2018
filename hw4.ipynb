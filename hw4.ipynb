{
  "cells": [
    {
      "cell_type": "markdown",
      "metadata": {
        "id": "5mzaPc6pHwpZ"
      },
      "source": [
        "# 10-714 Homework 4\n",
        "\n",
        "In this homework, you will leverage all of the components built in the last three homeworks to solve some modern problems with high performing network structures. We will start by adding a few new ops leveraging our new CPU/CUDA backends. Then, you will implement convolution, and a convolutional neural network to train a classifier on the CIFAR-10 image classification dataset. Then, you will implement recurrent and long-short term memory (LSTM) neural networks, and do word-level prediction language modeling on the Penn Treebank dataset.\n",
        "\n",
        "As always, we will start by copying this notebook and getting the starting code.\n",
        "Reminder: __you must save a copy in drive__."
      ]
    },
    {
      "cell_type": "code",
      "execution_count": 2,
      "metadata": {
        "colab": {
          "base_uri": "https://localhost:8080/"
        },
        "id": "cRaSrr4bHwpa",
        "outputId": "a1340123-60d5-4db5-b10f-ae61d7cb44be"
      },
      "outputs": [
        {
          "output_type": "stream",
          "name": "stdout",
          "text": [
            "Mounted at /content/drive\n",
            "/content/drive/MyDrive\n",
            "/content/drive/MyDrive/10714\n",
            "Cloning into 'hw4'...\n",
            "remote: Enumerating objects: 219, done.\u001b[K\n",
            "remote: Counting objects: 100% (66/66), done.\u001b[K\n",
            "remote: Compressing objects: 100% (37/37), done.\u001b[K\n",
            "remote: Total 219 (delta 32), reused 35 (delta 27), pack-reused 153 (from 1)\u001b[K\n",
            "Receiving objects: 100% (219/219), 225.82 KiB | 1.41 MiB/s, done.\n",
            "Resolving deltas: 100% (99/99), done.\n",
            "/content/drive/MyDrive/10714/hw4\n",
            "Collecting git+https://github.com/dlsys10714/mugrade.git\n",
            "  Cloning https://github.com/dlsys10714/mugrade.git to /tmp/pip-req-build-9whojnlv\n",
            "  Running command git clone --filter=blob:none --quiet https://github.com/dlsys10714/mugrade.git /tmp/pip-req-build-9whojnlv\n",
            "  Resolved https://github.com/dlsys10714/mugrade.git to commit 656cdc2b7ad5a37e7a5347a7b0405df0acd72380\n",
            "  Preparing metadata (setup.py) ... \u001b[?25l\u001b[?25hdone\n",
            "Building wheels for collected packages: mugrade\n",
            "  Building wheel for mugrade (setup.py) ... \u001b[?25l\u001b[?25hdone\n",
            "  Created wheel for mugrade: filename=mugrade-1.2-py3-none-any.whl size=3935 sha256=a606dcf1e4d49ddadac5bb56efe18757ce103b2821724ddadf9e5ba0c8fdc9a3\n",
            "  Stored in directory: /tmp/pip-ephem-wheel-cache-b1obbxao/wheels/8b/ba/3a/621da1207eab160c01968c5e0bd1266f505b9e3f8010376d61\n",
            "Successfully built mugrade\n",
            "Installing collected packages: mugrade\n",
            "Successfully installed mugrade-1.2\n",
            "Collecting pybind11\n",
            "  Downloading pybind11-2.13.6-py3-none-any.whl.metadata (9.5 kB)\n",
            "Downloading pybind11-2.13.6-py3-none-any.whl (243 kB)\n",
            "\u001b[2K   \u001b[90m━━━━━━━━━━━━━━━━━━━━━━━━━━━━━━━━━━━━━━━━\u001b[0m \u001b[32m243.3/243.3 kB\u001b[0m \u001b[31m3.5 MB/s\u001b[0m eta \u001b[36m0:00:00\u001b[0m\n",
            "\u001b[?25hInstalling collected packages: pybind11\n",
            "Successfully installed pybind11-2.13.6\n"
          ]
        }
      ],
      "source": [
        "# Code to set up the assignment\n",
        "from google.colab import drive\n",
        "drive.mount('/content/drive')\n",
        "%cd /content/drive/MyDrive/\n",
        "!mkdir -p 10714\n",
        "%cd /content/drive/MyDrive/10714\n",
        "!git clone https://github.com/dlsys10714/hw4.git\n",
        "%cd /content/drive/MyDrive/10714/hw4\n",
        "\n",
        "!pip3 install --upgrade --no-deps git+https://github.com/dlsys10714/mugrade.git\n",
        "!pip3 install pybind11"
      ]
    },
    {
      "cell_type": "code",
      "execution_count": 4,
      "metadata": {
        "colab": {
          "base_uri": "https://localhost:8080/"
        },
        "id": "UsgUgqkWHwpb",
        "outputId": "3167990b-8987-4591-b504-d39bcdb42468"
      },
      "outputs": [
        {
          "output_type": "stream",
          "name": "stdout",
          "text": [
            "-- Found pybind11: /usr/local/lib/python3.10/dist-packages/pybind11/include (found version \"2.13.6\")\n",
            "-- Found cuda, building cuda backend\n",
            "-- Configuring done (0.5s)\n",
            "-- Generating done (0.6s)\n",
            "-- Build files have been written to: /content/drive/MyDrive/10714/hw4/build\n",
            "make[1]: Entering directory '/content/drive/MyDrive/10714/hw4/build'\n",
            "make[2]: Entering directory '/content/drive/MyDrive/10714/hw4/build'\n",
            "make[3]: Entering directory '/content/drive/MyDrive/10714/hw4/build'\n",
            "make[3]: Leaving directory '/content/drive/MyDrive/10714/hw4/build'\n",
            "make[3]: Entering directory '/content/drive/MyDrive/10714/hw4/build'\n",
            "[-25%] \u001b[32mBuilding CXX object CMakeFiles/ndarray_backend_cpu.dir/src/ndarray_backend_cpu.cc.o\u001b[0m\n",
            "[  0%] \u001b[32m\u001b[1mLinking CXX shared module /content/drive/MyDrive/10714/hw4/python/needle/backend_ndarray/ndarray_backend_cpu.cpython-310-x86_64-linux-gnu.so\u001b[0m\n",
            "make[3]: Leaving directory '/content/drive/MyDrive/10714/hw4/build'\n",
            "[  0%] Built target ndarray_backend_cpu\n",
            "make[3]: Entering directory '/content/drive/MyDrive/10714/hw4/build'\n",
            "[ 25%] \u001b[34m\u001b[1mBuilding NVCC (Device) object CMakeFiles/ndarray_backend_cuda.dir/src/ndarray_backend_cuda_generated_ndarray_backend_cuda.cu.o\u001b[0m\n",
            "nvcc fatal   : Unsupported gpu architecture 'compute_37'\n",
            "\u001b[31mCMake Error at ndarray_backend_cuda_generated_ndarray_backend_cuda.cu.o.cmake:220 (message):\n",
            "  Error generating\n",
            "  /content/drive/MyDrive/10714/hw4/build/CMakeFiles/ndarray_backend_cuda.dir/src/./ndarray_backend_cuda_generated_ndarray_backend_cuda.cu.o\n",
            "\n",
            "\u001b[0m\n",
            "make[3]: *** [CMakeFiles/ndarray_backend_cuda.dir/build.make:77: CMakeFiles/ndarray_backend_cuda.dir/src/ndarray_backend_cuda_generated_ndarray_backend_cuda.cu.o] Error 1\n",
            "make[3]: Leaving directory '/content/drive/MyDrive/10714/hw4/build'\n",
            "make[2]: *** [CMakeFiles/Makefile2:110: CMakeFiles/ndarray_backend_cuda.dir/all] Error 2\n",
            "make[2]: Leaving directory '/content/drive/MyDrive/10714/hw4/build'\n",
            "make[1]: *** [Makefile:91: all] Error 2\n",
            "make[1]: Leaving directory '/content/drive/MyDrive/10714/hw4/build'\n",
            "make: *** [Makefile:9: lib] Error 2\n"
          ]
        }
      ],
      "source": [
        "!make"
      ]
    },
    {
      "cell_type": "code",
      "execution_count": 5,
      "metadata": {
        "colab": {
          "base_uri": "https://localhost:8080/"
        },
        "id": "hMi0Uc-nHwpb",
        "outputId": "b2cb1697-d5e9-4e58-b527-15e70cdb6965"
      },
      "outputs": [
        {
          "output_type": "stream",
          "name": "stdout",
          "text": [
            "env: PYTHONPATH=./python\n",
            "env: NEEDLE_BACKEND=nd\n"
          ]
        }
      ],
      "source": [
        "%set_env PYTHONPATH ./python\n",
        "%set_env NEEDLE_BACKEND nd"
      ]
    },
    {
      "cell_type": "code",
      "execution_count": 6,
      "metadata": {
        "id": "7E3Eiiv1Hwpb"
      },
      "outputs": [],
      "source": [
        "import sys\n",
        "sys.path.append('./python')"
      ]
    },
    {
      "cell_type": "code",
      "execution_count": 7,
      "metadata": {
        "colab": {
          "base_uri": "https://localhost:8080/"
        },
        "id": "dBRTXbLJHwpb",
        "outputId": "d2a35dff-8550-4e2f-8141-832d744f9d46"
      },
      "outputs": [
        {
          "output_type": "stream",
          "name": "stdout",
          "text": [
            "cifar-10-batches-py/\n",
            "cifar-10-batches-py/data_batch_4\n",
            "cifar-10-batches-py/readme.html\n",
            "cifar-10-batches-py/test_batch\n",
            "cifar-10-batches-py/data_batch_3\n",
            "cifar-10-batches-py/batches.meta\n",
            "cifar-10-batches-py/data_batch_2\n",
            "cifar-10-batches-py/data_batch_5\n",
            "cifar-10-batches-py/data_batch_1\n"
          ]
        }
      ],
      "source": [
        "# Download the datasets you will be using for this assignment\n",
        "\n",
        "import urllib.request\n",
        "import os\n",
        "\n",
        "!mkdir -p './data/ptb'\n",
        "# Download Penn Treebank dataset\n",
        "ptb_data = \"https://raw.githubusercontent.com/wojzaremba/lstm/master/data/ptb.\"\n",
        "for f in ['train.txt', 'test.txt', 'valid.txt']:\n",
        "    if not os.path.exists(os.path.join('./data/ptb', f)):\n",
        "        urllib.request.urlretrieve(ptb_data + f, os.path.join('./data/ptb', f))\n",
        "\n",
        "# Download CIFAR-10 dataset\n",
        "if not os.path.isdir(\"./data/cifar-10-batches-py\"):\n",
        "    urllib.request.urlretrieve(\"https://www.cs.toronto.edu/~kriz/cifar-10-python.tar.gz\", \"./data/cifar-10-python.tar.gz\")\n",
        "    !tar -xvzf './data/cifar-10-python.tar.gz' -C './data'"
      ]
    },
    {
      "cell_type": "markdown",
      "metadata": {
        "id": "OZx0wMkYHwpb"
      },
      "source": [
        "To finish setting up the assignment, go ahead and fill in all the code in `python/needle/autograd.py` using your solution code from the previous homework. Also copy the solutions in `src/ndarray_backend_cpu.cc` and `src/ndarray_backend_cuda.cu` from homework 3.\n",
        "\n",
        "**Note**: Be careful not to accidentally delete or modify any new imports and function declarations when copying over code from previous assignments."
      ]
    },
    {
      "cell_type": "markdown",
      "metadata": {
        "id": "Sf4ea9IvHwpb"
      },
      "source": [
        "## Part 1: ND Backend [10 pts]\n",
        "\n",
        "Recall that in homework 2, the `array_api` was imported as `numpy`. In this part, the goal is to write the necessary operations with `array_api` imported from the needle backend `NDArray` in `python/needle/backend_ndarray/ndarray.py`. Make sure to copy the solutions for `reshape`, `permute`, `broadcast_to` and `__getitem__` from homework 3.\n",
        "\n",
        "Fill in the following classes in `python/needle/ops_logarithmic.py` and `python/needle/ops_mathematic.py`:\n",
        "\n",
        "- `PowerScalar`\n",
        "- `EWiseDiv`\n",
        "- `DivScalar`\n",
        "- `Transpose`\n",
        "- `Reshape`\n",
        "- `BroadcastTo`\n",
        "- `Summation`\n",
        "- `MatMul`\n",
        "- `Negate`\n",
        "- `Log`\n",
        "- `Exp`\n",
        "- `ReLU`\n",
        "- `LogSumExp`\n",
        "- `Tanh` (new)\n",
        "- `Stack` (new)\n",
        "- `Split` (new)\n",
        "\n",
        "Note that for most of these, you already wrote the solutions in the previous homework and you should not change most part of your previous solution, if issues arise, please check if the `array_api` function used is supported in the needle backend.\n",
        "\n",
        "The `Tanh`, `Stack`, and `Split` operators are newly added. `Stack` concatenates same-sized tensors along a new axis, and `Split` undoes this operation. The gradients of the two operations can be written in terms of each other. We do not directly test `Split`, and only test the backward pass of `Stack` (for which we assume you used `Split`).\n",
        "\n",
        "**Note:** You may want to make your Summation op support sums over multiple axes; you will likely need it for the backward pass of the BroadcastTo op if yours supports broadcasting over multiple axes at a time. However, this is more about ease of use than necessity, and we leave this decision up to you (there are no corresponding tests).\n",
        "\n",
        "**Note:** Depending on your implementations, you may want to ensure that you call `.compact()` before reshaping arrays. (If this is necessary, you will run into corresponding error messages later in the assignment.)\n",
        "\n",
        "**Note**: Be careful not to accidentally delete or modify any new imports and function declarations when copying over code from previous assignments."
      ]
    },
    {
      "cell_type": "code",
      "execution_count": 11,
      "metadata": {
        "colab": {
          "base_uri": "https://localhost:8080/"
        },
        "id": "SHn7YeDQHwpb",
        "outputId": "b6c562d0-444d-43bb-f015-343a47c84312"
      },
      "outputs": [
        {
          "output_type": "stream",
          "name": "stdout",
          "text": [
            "\u001b[1m======================================= test session starts ========================================\u001b[0m\n",
            "platform linux -- Python 3.10.12, pytest-8.3.3, pluggy-1.5.0 -- /usr/bin/python3\n",
            "cachedir: .pytest_cache\n",
            "rootdir: /content/drive/MyDrive/10714/hw4\n",
            "plugins: anyio-3.7.1, typeguard-4.4.1\n",
            "collected 1803 items / 1685 deselected / 118 selected                                              \u001b[0m\n",
            "\n",
            "tests/hw4/test_nd_backend.py::test_ewise_fn[cpu-shape0-divide] \u001b[32mPASSED\u001b[0m\u001b[32m                        [  0%]\u001b[0m\n",
            "tests/hw4/test_nd_backend.py::test_ewise_fn[cpu-shape0-subtract] \u001b[32mPASSED\u001b[0m\u001b[32m                      [  1%]\u001b[0m\n",
            "tests/hw4/test_nd_backend.py::test_ewise_fn[cpu-shape1-divide] \u001b[32mPASSED\u001b[0m\u001b[32m                        [  2%]\u001b[0m\n",
            "tests/hw4/test_nd_backend.py::test_ewise_fn[cpu-shape1-subtract] \u001b[32mPASSED\u001b[0m\u001b[32m                      [  3%]\u001b[0m\n",
            "tests/hw4/test_nd_backend.py::test_ewise_fn[cuda-shape0-divide] \u001b[33mSKIPPED\u001b[0m (No GPU)\u001b[32m             [  4%]\u001b[0m\n",
            "tests/hw4/test_nd_backend.py::test_ewise_fn[cuda-shape0-subtract] \u001b[33mSKIPPED\u001b[0m (No GPU)\u001b[32m           [  5%]\u001b[0m\n",
            "tests/hw4/test_nd_backend.py::test_ewise_fn[cuda-shape1-divide] \u001b[33mSKIPPED\u001b[0m (No GPU)\u001b[32m             [  5%]\u001b[0m\n",
            "tests/hw4/test_nd_backend.py::test_ewise_fn[cuda-shape1-subtract] \u001b[33mSKIPPED\u001b[0m (No GPU)\u001b[32m           [  6%]\u001b[0m\n",
            "tests/hw4/test_nd_backend.py::test_scalar_fn[cpu-shape0-divide] \u001b[32mPASSED\u001b[0m\u001b[32m                       [  7%]\u001b[0m\n",
            "tests/hw4/test_nd_backend.py::test_scalar_fn[cpu-shape0-subtract] \u001b[32mPASSED\u001b[0m\u001b[32m                     [  8%]\u001b[0m\n",
            "tests/hw4/test_nd_backend.py::test_scalar_fn[cpu-shape1-divide] \u001b[32mPASSED\u001b[0m\u001b[32m                       [  9%]\u001b[0m\n",
            "tests/hw4/test_nd_backend.py::test_scalar_fn[cpu-shape1-subtract] \u001b[32mPASSED\u001b[0m\u001b[32m                     [ 10%]\u001b[0m\n",
            "tests/hw4/test_nd_backend.py::test_scalar_fn[cuda-shape0-divide] \u001b[33mSKIPPED\u001b[0m (No GPU)\u001b[32m            [ 11%]\u001b[0m\n",
            "tests/hw4/test_nd_backend.py::test_scalar_fn[cuda-shape0-subtract] \u001b[33mSKIPPED\u001b[0m (No GPU)\u001b[32m          [ 11%]\u001b[0m\n",
            "tests/hw4/test_nd_backend.py::test_scalar_fn[cuda-shape1-divide] \u001b[33mSKIPPED\u001b[0m (No GPU)\u001b[32m            [ 12%]\u001b[0m\n",
            "tests/hw4/test_nd_backend.py::test_scalar_fn[cuda-shape1-subtract] \u001b[33mSKIPPED\u001b[0m (No GPU)\u001b[32m          [ 13%]\u001b[0m\n",
            "tests/hw4/test_nd_backend.py::test_matmul[cpu-16-16-16] \u001b[32mPASSED\u001b[0m\u001b[32m                               [ 14%]\u001b[0m\n",
            "tests/hw4/test_nd_backend.py::test_matmul[cpu-8-8-8] \u001b[32mPASSED\u001b[0m\u001b[32m                                  [ 15%]\u001b[0m\n",
            "tests/hw4/test_nd_backend.py::test_matmul[cpu-1-2-3] \u001b[32mPASSED\u001b[0m\u001b[32m                                  [ 16%]\u001b[0m\n",
            "tests/hw4/test_nd_backend.py::test_matmul[cpu-3-4-5] \u001b[32mPASSED\u001b[0m\u001b[32m                                  [ 16%]\u001b[0m\n",
            "tests/hw4/test_nd_backend.py::test_matmul[cpu-5-4-3] \u001b[32mPASSED\u001b[0m\u001b[32m                                  [ 17%]\u001b[0m\n",
            "tests/hw4/test_nd_backend.py::test_matmul[cpu-16-16-32] \u001b[32mPASSED\u001b[0m\u001b[32m                               [ 18%]\u001b[0m\n",
            "tests/hw4/test_nd_backend.py::test_matmul[cpu-64-64-64] \u001b[32mPASSED\u001b[0m\u001b[32m                               [ 19%]\u001b[0m\n",
            "tests/hw4/test_nd_backend.py::test_matmul[cpu-72-72-72] \u001b[32mPASSED\u001b[0m\u001b[32m                               [ 20%]\u001b[0m\n",
            "tests/hw4/test_nd_backend.py::test_matmul[cpu-72-73-74] \u001b[32mPASSED\u001b[0m\u001b[32m                               [ 21%]\u001b[0m\n",
            "tests/hw4/test_nd_backend.py::test_matmul[cpu-74-73-72] \u001b[32mPASSED\u001b[0m\u001b[32m                               [ 22%]\u001b[0m\n",
            "tests/hw4/test_nd_backend.py::test_matmul[cpu-128-128-128] \u001b[32mPASSED\u001b[0m\u001b[32m                            [ 22%]\u001b[0m\n",
            "tests/hw4/test_nd_backend.py::test_matmul[cuda-16-16-16] \u001b[33mSKIPPED\u001b[0m (No GPU)\u001b[32m                    [ 23%]\u001b[0m\n",
            "tests/hw4/test_nd_backend.py::test_matmul[cuda-8-8-8] \u001b[33mSKIPPED\u001b[0m (No GPU)\u001b[32m                       [ 24%]\u001b[0m\n",
            "tests/hw4/test_nd_backend.py::test_matmul[cuda-1-2-3] \u001b[33mSKIPPED\u001b[0m (No GPU)\u001b[32m                       [ 25%]\u001b[0m\n",
            "tests/hw4/test_nd_backend.py::test_matmul[cuda-3-4-5] \u001b[33mSKIPPED\u001b[0m (No GPU)\u001b[32m                       [ 26%]\u001b[0m\n",
            "tests/hw4/test_nd_backend.py::test_matmul[cuda-5-4-3] \u001b[33mSKIPPED\u001b[0m (No GPU)\u001b[32m                       [ 27%]\u001b[0m\n",
            "tests/hw4/test_nd_backend.py::test_matmul[cuda-16-16-32] \u001b[33mSKIPPED\u001b[0m (No GPU)\u001b[32m                    [ 27%]\u001b[0m\n",
            "tests/hw4/test_nd_backend.py::test_matmul[cuda-64-64-64] \u001b[33mSKIPPED\u001b[0m (No GPU)\u001b[32m                    [ 28%]\u001b[0m\n",
            "tests/hw4/test_nd_backend.py::test_matmul[cuda-72-72-72] \u001b[33mSKIPPED\u001b[0m (No GPU)\u001b[32m                    [ 29%]\u001b[0m\n",
            "tests/hw4/test_nd_backend.py::test_matmul[cuda-72-73-74] \u001b[33mSKIPPED\u001b[0m (No GPU)\u001b[32m                    [ 30%]\u001b[0m\n",
            "tests/hw4/test_nd_backend.py::test_matmul[cuda-74-73-72] \u001b[33mSKIPPED\u001b[0m (No GPU)\u001b[32m                    [ 31%]\u001b[0m\n",
            "tests/hw4/test_nd_backend.py::test_matmul[cuda-128-128-128] \u001b[33mSKIPPED\u001b[0m (No GPU)\u001b[32m                 [ 32%]\u001b[0m\n",
            "tests/hw4/test_nd_backend.py::test_power[cpu-shape0] \u001b[32mPASSED\u001b[0m\u001b[32m                                  [ 33%]\u001b[0m\n",
            "tests/hw4/test_nd_backend.py::test_power[cpu-shape1] \u001b[32mPASSED\u001b[0m\u001b[32m                                  [ 33%]\u001b[0m\n",
            "tests/hw4/test_nd_backend.py::test_power[cuda-shape0] \u001b[33mSKIPPED\u001b[0m (No GPU)\u001b[32m                       [ 34%]\u001b[0m\n",
            "tests/hw4/test_nd_backend.py::test_power[cuda-shape1] \u001b[33mSKIPPED\u001b[0m (No GPU)\u001b[32m                       [ 35%]\u001b[0m\n",
            "tests/hw4/test_nd_backend.py::test_log[cpu-shape0] \u001b[32mPASSED\u001b[0m\u001b[32m                                    [ 36%]\u001b[0m\n",
            "tests/hw4/test_nd_backend.py::test_log[cpu-shape1] \u001b[32mPASSED\u001b[0m\u001b[32m                                    [ 37%]\u001b[0m\n",
            "tests/hw4/test_nd_backend.py::test_log[cuda-shape0] \u001b[33mSKIPPED\u001b[0m (No GPU)\u001b[32m                         [ 38%]\u001b[0m\n",
            "tests/hw4/test_nd_backend.py::test_log[cuda-shape1] \u001b[33mSKIPPED\u001b[0m (No GPU)\u001b[32m                         [ 38%]\u001b[0m\n",
            "tests/hw4/test_nd_backend.py::test_exp[cpu-shape0] \u001b[32mPASSED\u001b[0m\u001b[32m                                    [ 39%]\u001b[0m\n",
            "tests/hw4/test_nd_backend.py::test_exp[cpu-shape1] \u001b[32mPASSED\u001b[0m\u001b[32m                                    [ 40%]\u001b[0m\n",
            "tests/hw4/test_nd_backend.py::test_exp[cuda-shape0] \u001b[33mSKIPPED\u001b[0m (No GPU)\u001b[32m                         [ 41%]\u001b[0m\n",
            "tests/hw4/test_nd_backend.py::test_exp[cuda-shape1] \u001b[33mSKIPPED\u001b[0m (No GPU)\u001b[32m                         [ 42%]\u001b[0m\n",
            "tests/hw4/test_nd_backend.py::test_relu[cpu-shape0] \u001b[32mPASSED\u001b[0m\u001b[32m                                   [ 43%]\u001b[0m\n",
            "tests/hw4/test_nd_backend.py::test_relu[cpu-shape1] \u001b[32mPASSED\u001b[0m\u001b[32m                                   [ 44%]\u001b[0m\n",
            "tests/hw4/test_nd_backend.py::test_relu[cuda-shape0] \u001b[33mSKIPPED\u001b[0m (No GPU)\u001b[32m                        [ 44%]\u001b[0m\n",
            "tests/hw4/test_nd_backend.py::test_relu[cuda-shape1] \u001b[33mSKIPPED\u001b[0m (No GPU)\u001b[32m                        [ 45%]\u001b[0m\n",
            "tests/hw4/test_nd_backend.py::test_tanh[cpu-shape0] \u001b[32mPASSED\u001b[0m\u001b[32m                                   [ 46%]\u001b[0m\n",
            "tests/hw4/test_nd_backend.py::test_tanh[cpu-shape1] \u001b[32mPASSED\u001b[0m\u001b[32m                                   [ 47%]\u001b[0m\n",
            "tests/hw4/test_nd_backend.py::test_tanh[cuda-shape0] \u001b[33mSKIPPED\u001b[0m (No GPU)\u001b[32m                        [ 48%]\u001b[0m\n",
            "tests/hw4/test_nd_backend.py::test_tanh[cuda-shape1] \u001b[33mSKIPPED\u001b[0m (No GPU)\u001b[32m                        [ 49%]\u001b[0m\n",
            "tests/hw4/test_nd_backend.py::test_tanh_backward[cpu-shape0] \u001b[32mPASSED\u001b[0m\u001b[32m                          [ 50%]\u001b[0m\n",
            "tests/hw4/test_nd_backend.py::test_tanh_backward[cpu-shape1] \u001b[32mPASSED\u001b[0m\u001b[32m                          [ 50%]\u001b[0m\n",
            "tests/hw4/test_nd_backend.py::test_tanh_backward[cuda-shape0] \u001b[33mSKIPPED\u001b[0m (No GPU)\u001b[32m               [ 51%]\u001b[0m\n",
            "tests/hw4/test_nd_backend.py::test_tanh_backward[cuda-shape1] \u001b[33mSKIPPED\u001b[0m (No GPU)\u001b[32m               [ 52%]\u001b[0m\n",
            "tests/hw4/test_nd_backend.py::test_stack[cpu-shape0-0-1] \u001b[32mPASSED\u001b[0m\u001b[32m                              [ 53%]\u001b[0m\n",
            "tests/hw4/test_nd_backend.py::test_stack[cpu-shape1-0-2] \u001b[32mPASSED\u001b[0m\u001b[32m                              [ 54%]\u001b[0m\n",
            "tests/hw4/test_nd_backend.py::test_stack[cpu-shape2-2-5] \u001b[32mPASSED\u001b[0m\u001b[32m                              [ 55%]\u001b[0m\n",
            "tests/hw4/test_nd_backend.py::test_stack[cuda-shape0-0-1] \u001b[33mSKIPPED\u001b[0m (No GPU)\u001b[32m                   [ 55%]\u001b[0m\n",
            "tests/hw4/test_nd_backend.py::test_stack[cuda-shape1-0-2] \u001b[33mSKIPPED\u001b[0m (No GPU)\u001b[32m                   [ 56%]\u001b[0m\n",
            "tests/hw4/test_nd_backend.py::test_stack[cuda-shape2-2-5] \u001b[33mSKIPPED\u001b[0m (No GPU)\u001b[32m                   [ 57%]\u001b[0m\n",
            "tests/hw4/test_nd_backend.py::test_stack_backward[cpu-shape0-0-1] \u001b[31mFAILED\u001b[0m\u001b[31m                     [ 58%]\u001b[0m\n",
            "tests/hw4/test_nd_backend.py::test_stack_backward[cpu-shape1-0-2] \u001b[31mFAILED\u001b[0m\u001b[31m                     [ 59%]\u001b[0m\n",
            "tests/hw4/test_nd_backend.py::test_stack_backward[cpu-shape2-2-5] \u001b[31mFAILED\u001b[0m\u001b[31m                     [ 60%]\u001b[0m\n",
            "tests/hw4/test_nd_backend.py::test_stack_backward[cuda-shape0-0-1] \u001b[33mSKIPPED\u001b[0m (No GPU)\u001b[31m          [ 61%]\u001b[0m\n",
            "tests/hw4/test_nd_backend.py::test_stack_backward[cuda-shape1-0-2] \u001b[33mSKIPPED\u001b[0m (No GPU)\u001b[31m          [ 61%]\u001b[0m\n",
            "tests/hw4/test_nd_backend.py::test_stack_backward[cuda-shape2-2-5] \u001b[33mSKIPPED\u001b[0m (No GPU)\u001b[31m          [ 62%]\u001b[0m\n",
            "tests/hw4/test_nd_backend.py::test_summation[cpu-shape0-None] \u001b[32mPASSED\u001b[0m\u001b[31m                         [ 63%]\u001b[0m\n",
            "tests/hw4/test_nd_backend.py::test_summation[cpu-shape1-0] \u001b[32mPASSED\u001b[0m\u001b[31m                            [ 64%]\u001b[0m\n",
            "tests/hw4/test_nd_backend.py::test_summation[cpu-shape2-1] \u001b[32mPASSED\u001b[0m\u001b[31m                            [ 65%]\u001b[0m\n",
            "tests/hw4/test_nd_backend.py::test_summation[cpu-shape3-2] \u001b[32mPASSED\u001b[0m\u001b[31m                            [ 66%]\u001b[0m\n",
            "tests/hw4/test_nd_backend.py::test_summation[cuda-shape0-None] \u001b[33mSKIPPED\u001b[0m (No GPU)\u001b[31m              [ 66%]\u001b[0m\n",
            "tests/hw4/test_nd_backend.py::test_summation[cuda-shape1-0] \u001b[33mSKIPPED\u001b[0m (No GPU)\u001b[31m                 [ 67%]\u001b[0m\n",
            "tests/hw4/test_nd_backend.py::test_summation[cuda-shape2-1] \u001b[33mSKIPPED\u001b[0m (No GPU)\u001b[31m                 [ 68%]\u001b[0m\n",
            "tests/hw4/test_nd_backend.py::test_summation[cuda-shape3-2] \u001b[33mSKIPPED\u001b[0m (No GPU)\u001b[31m                 [ 69%]\u001b[0m\n",
            "tests/hw4/test_nd_backend.py::test_summation_backward[cpu-shape0-None] \u001b[32mPASSED\u001b[0m\u001b[31m                [ 70%]\u001b[0m\n",
            "tests/hw4/test_nd_backend.py::test_summation_backward[cpu-shape1-0] \u001b[32mPASSED\u001b[0m\u001b[31m                   [ 71%]\u001b[0m\n",
            "tests/hw4/test_nd_backend.py::test_summation_backward[cpu-shape2-1] \u001b[32mPASSED\u001b[0m\u001b[31m                   [ 72%]\u001b[0m\n",
            "tests/hw4/test_nd_backend.py::test_summation_backward[cpu-shape3-2] \u001b[32mPASSED\u001b[0m\u001b[31m                   [ 72%]\u001b[0m\n",
            "tests/hw4/test_nd_backend.py::test_summation_backward[cuda-shape0-None] \u001b[33mSKIPPED\u001b[0m (No GPU)\u001b[31m     [ 73%]\u001b[0m\n",
            "tests/hw4/test_nd_backend.py::test_summation_backward[cuda-shape1-0] \u001b[33mSKIPPED\u001b[0m (No GPU)\u001b[31m        [ 74%]\u001b[0m\n",
            "tests/hw4/test_nd_backend.py::test_summation_backward[cuda-shape2-1] \u001b[33mSKIPPED\u001b[0m (No GPU)\u001b[31m        [ 75%]\u001b[0m\n",
            "tests/hw4/test_nd_backend.py::test_summation_backward[cuda-shape3-2] \u001b[33mSKIPPED\u001b[0m (No GPU)\u001b[31m        [ 76%]\u001b[0m\n",
            "tests/hw4/test_nd_backend.py::test_broadcast_to[cpu-shape0-shape_to0] \u001b[32mPASSED\u001b[0m\u001b[31m                 [ 77%]\u001b[0m\n",
            "tests/hw4/test_nd_backend.py::test_broadcast_to[cpu-shape1-shape_to1] \u001b[32mPASSED\u001b[0m\u001b[31m                 [ 77%]\u001b[0m\n",
            "tests/hw4/test_nd_backend.py::test_broadcast_to[cuda-shape0-shape_to0] \u001b[33mSKIPPED\u001b[0m (No GPU)\u001b[31m      [ 78%]\u001b[0m\n",
            "tests/hw4/test_nd_backend.py::test_broadcast_to[cuda-shape1-shape_to1] \u001b[33mSKIPPED\u001b[0m (No GPU)\u001b[31m      [ 79%]\u001b[0m\n",
            "tests/hw4/test_nd_backend.py::test_reshape[cpu-shape0-shape_to0] \u001b[32mPASSED\u001b[0m\u001b[31m                      [ 80%]\u001b[0m\n",
            "tests/hw4/test_nd_backend.py::test_reshape[cpu-shape1-shape_to1] \u001b[32mPASSED\u001b[0m\u001b[31m                      [ 81%]\u001b[0m\n",
            "tests/hw4/test_nd_backend.py::test_reshape[cuda-shape0-shape_to0] \u001b[33mSKIPPED\u001b[0m (No GPU)\u001b[31m           [ 82%]\u001b[0m\n",
            "tests/hw4/test_nd_backend.py::test_reshape[cuda-shape1-shape_to1] \u001b[33mSKIPPED\u001b[0m (No GPU)\u001b[31m           [ 83%]\u001b[0m\n",
            "tests/hw4/test_nd_backend.py::test_transpose[cpu-axes0-shape0] \u001b[32mPASSED\u001b[0m\u001b[31m                        [ 83%]\u001b[0m\n",
            "tests/hw4/test_nd_backend.py::test_transpose[cpu-axes0-shape1] \u001b[32mPASSED\u001b[0m\u001b[31m                        [ 84%]\u001b[0m\n",
            "tests/hw4/test_nd_backend.py::test_transpose[cpu-axes1-shape0] \u001b[32mPASSED\u001b[0m\u001b[31m                        [ 85%]\u001b[0m\n",
            "tests/hw4/test_nd_backend.py::test_transpose[cpu-axes1-shape1] \u001b[32mPASSED\u001b[0m\u001b[31m                        [ 86%]\u001b[0m\n",
            "tests/hw4/test_nd_backend.py::test_transpose[cpu-None-shape0] \u001b[32mPASSED\u001b[0m\u001b[31m                         [ 87%]\u001b[0m\n",
            "tests/hw4/test_nd_backend.py::test_transpose[cpu-None-shape1] \u001b[32mPASSED\u001b[0m\u001b[31m                         [ 88%]\u001b[0m\n",
            "tests/hw4/test_nd_backend.py::test_transpose[cuda-axes0-shape0] \u001b[33mSKIPPED\u001b[0m (No GPU)\u001b[31m             [ 88%]\u001b[0m\n",
            "tests/hw4/test_nd_backend.py::test_transpose[cuda-axes0-shape1] \u001b[33mSKIPPED\u001b[0m (No GPU)\u001b[31m             [ 89%]\u001b[0m\n",
            "tests/hw4/test_nd_backend.py::test_transpose[cuda-axes1-shape0] \u001b[33mSKIPPED\u001b[0m (No GPU)\u001b[31m             [ 90%]\u001b[0m\n",
            "tests/hw4/test_nd_backend.py::test_transpose[cuda-axes1-shape1] \u001b[33mSKIPPED\u001b[0m (No GPU)\u001b[31m             [ 91%]\u001b[0m\n",
            "tests/hw4/test_nd_backend.py::test_transpose[cuda-None-shape0] \u001b[33mSKIPPED\u001b[0m (No GPU)\u001b[31m              [ 92%]\u001b[0m\n",
            "tests/hw4/test_nd_backend.py::test_transpose[cuda-None-shape1] \u001b[33mSKIPPED\u001b[0m (No GPU)\u001b[31m              [ 93%]\u001b[0m\n",
            "tests/hw4/test_nd_backend.py::test_logsumexp[cpu-shape0-None] \u001b[31mFAILED\u001b[0m\u001b[31m                         [ 94%]\u001b[0m\n",
            "tests/hw4/test_nd_backend.py::test_logsumexp[cpu-shape1-0] \u001b[31mFAILED\u001b[0m\u001b[31m                            [ 94%]\u001b[0m\n",
            "tests/hw4/test_nd_backend.py::test_logsumexp[cpu-shape2-1] \u001b[31mFAILED\u001b[0m\u001b[31m                            [ 95%]\u001b[0m\n",
            "tests/hw4/test_nd_backend.py::test_logsumexp[cpu-shape3-2] \u001b[31mFAILED\u001b[0m\u001b[31m                            [ 96%]\u001b[0m\n",
            "tests/hw4/test_nd_backend.py::test_logsumexp[cuda-shape0-None] \u001b[33mSKIPPED\u001b[0m (No GPU)\u001b[31m              [ 97%]\u001b[0m\n",
            "tests/hw4/test_nd_backend.py::test_logsumexp[cuda-shape1-0] \u001b[33mSKIPPED\u001b[0m (No GPU)\u001b[31m                 [ 98%]\u001b[0m\n",
            "tests/hw4/test_nd_backend.py::test_logsumexp[cuda-shape2-1] \u001b[33mSKIPPED\u001b[0m (No GPU)\u001b[31m                 [ 99%]\u001b[0m\n",
            "tests/hw4/test_nd_backend.py::test_logsumexp[cuda-shape3-2] \u001b[33mSKIPPED\u001b[0m (No GPU)\u001b[31m                 [100%]\u001b[0m\n",
            "\n",
            "============================================= FAILURES =============================================\n",
            "\u001b[31m\u001b[1m_______________________________ test_stack_backward[cpu-shape0-0-1] ________________________________\u001b[0m\n",
            "\n",
            "shape = (5, 5), axis = 0, l = 1, device = cpu()\n",
            "\n",
            "    \u001b[0m\u001b[37m@pytest\u001b[39;49;00m.mark.parametrize(\u001b[33m\"\u001b[39;49;00m\u001b[33mshape, axis, l\u001b[39;49;00m\u001b[33m\"\u001b[39;49;00m, STACK_PARAMETERS)\u001b[90m\u001b[39;49;00m\n",
            "    \u001b[37m@pytest\u001b[39;49;00m.mark.parametrize(\u001b[33m\"\u001b[39;49;00m\u001b[33mdevice\u001b[39;49;00m\u001b[33m\"\u001b[39;49;00m, _DEVICES, ids=[\u001b[33m\"\u001b[39;49;00m\u001b[33mcpu\u001b[39;49;00m\u001b[33m\"\u001b[39;49;00m, \u001b[33m\"\u001b[39;49;00m\u001b[33mcuda\u001b[39;49;00m\u001b[33m\"\u001b[39;49;00m])\u001b[90m\u001b[39;49;00m\n",
            "    \u001b[94mdef\u001b[39;49;00m \u001b[92mtest_stack_backward\u001b[39;49;00m(shape, axis, l, device):\u001b[90m\u001b[39;49;00m\n",
            "        _A = [np.random.randn(*shape).astype(np.float32) \u001b[94mfor\u001b[39;49;00m i \u001b[95min\u001b[39;49;00m \u001b[96mrange\u001b[39;49;00m(l)]\u001b[90m\u001b[39;49;00m\n",
            "        A = [ndl.Tensor(nd.array(_A[i]), device=device) \u001b[94mfor\u001b[39;49;00m i \u001b[95min\u001b[39;49;00m \u001b[96mrange\u001b[39;49;00m(l)]\u001b[90m\u001b[39;49;00m\n",
            "        A_t = [torch.Tensor(_A[i]) \u001b[94mfor\u001b[39;49;00m i \u001b[95min\u001b[39;49;00m \u001b[96mrange\u001b[39;49;00m(l)]\u001b[90m\u001b[39;49;00m\n",
            "        \u001b[94mfor\u001b[39;49;00m i \u001b[95min\u001b[39;49;00m \u001b[96mrange\u001b[39;49;00m(l):\u001b[90m\u001b[39;49;00m\n",
            "            A_t[i].requires_grad = \u001b[94mTrue\u001b[39;49;00m\u001b[90m\u001b[39;49;00m\n",
            ">       ndl.stack(A, axis=axis).sum().backward()\u001b[90m\u001b[39;49;00m\n",
            "\n",
            "A          = [needle.Tensor([[-0.2052765  -1.6295726  -1.7718803   0.07834701 -0.15388085]\n",
            " [-1.0797265   0.6087523   0.12723175  0...966   0.96413904  1.4183148  -0.6076717  -0.84955657]\n",
            " [-2.2805736   0.09174483  0.69337326 -0.23374121  0.35996845]])]\n",
            "A_t        = [tensor([[-0.2053, -1.6296, -1.7719,  0.0783, -0.1539],\n",
            "        [-1.0797,  0.6088,  0.1272,  0.5082,  0.7878],\n",
            "       ...8137,  0.9641,  1.4183, -0.6077, -0.8496],\n",
            "        [-2.2806,  0.0917,  0.6934, -0.2337,  0.3600]], requires_grad=True)]\n",
            "_A         = [array([[-0.2052765 , -1.6295726 , -1.7718803 ,  0.07834701, -0.15388085],\n",
            "       [-1.0797265 ,  0.6087523 ,  0.127231...076717 , -0.84955657],\n",
            "       [-2.2805736 ,  0.09174483,  0.69337326, -0.23374121,  0.35996845]],\n",
            "      dtype=float32)]\n",
            "axis       = 0\n",
            "device     = cpu()\n",
            "i          = 0\n",
            "l          = 1\n",
            "shape      = (5, 5)\n",
            "\n",
            "\u001b[1m\u001b[31mtests/hw4/test_nd_backend.py\u001b[0m:167: \n",
            "_ _ _ _ _ _ _ _ _ _ _ _ _ _ _ _ _ _ _ _ _ _ _ _ _ _ _ _ _ _ _ _ _ _ _ _ _ _ _ _ _ _ _ _ _ _ _ _ _ _ \n",
            "\u001b[1m\u001b[31mpython/needle/autograd.py\u001b[0m:297: in backward\n",
            "    \u001b[0mcompute_gradient_of_variables(\u001b[96mself\u001b[39;49;00m, out_grad)\u001b[90m\u001b[39;49;00m\n",
            "        out_grad   = needle.Tensor([1.])\n",
            "        self       = needle.Tensor([-1.0610865])\n",
            "\u001b[1m\u001b[31mpython/needle/autograd.py\u001b[0m:381: in compute_gradient_of_variables\n",
            "    \u001b[0mreverse_topo_order = \u001b[96mlist\u001b[39;49;00m(\u001b[96mreversed\u001b[39;49;00m(find_topo_sort([output_tensor])))\u001b[90m\u001b[39;49;00m\n",
            "        node_to_output_grads_list = {needle.Tensor([-1.0610865]): [needle.Tensor([1.])]}\n",
            "        out_grad   = needle.Tensor([1.])\n",
            "        output_tensor = needle.Tensor([-1.0610865])\n",
            "_ _ _ _ _ _ _ _ _ _ _ _ _ _ _ _ _ _ _ _ _ _ _ _ _ _ _ _ _ _ _ _ _ _ _ _ _ _ _ _ _ _ _ _ _ _ _ _ _ _ \n",
            "\n",
            "node_list = [needle.Tensor([-1.0610865])]\n",
            "\n",
            "    \u001b[0m\u001b[94mdef\u001b[39;49;00m \u001b[92mfind_topo_sort\u001b[39;49;00m(node_list: List[Value]) -> List[Value]:\u001b[90m\u001b[39;49;00m\n",
            "    \u001b[90m    \u001b[39;49;00m\u001b[33m\"\"\"Given a list of nodes, return a topological sort list of nodes ending in them.\u001b[39;49;00m\n",
            "    \u001b[33m\u001b[39;49;00m\n",
            "    \u001b[33m    A simple algorithm is to do a post-order DFS traversal on the given nodes,\u001b[39;49;00m\n",
            "    \u001b[33m    going backwards based on input edges. Since a node is added to the ordering\u001b[39;49;00m\n",
            "    \u001b[33m    after all its predecessors are traversed due to post-order DFS, we get a topological\u001b[39;49;00m\n",
            "    \u001b[33m    sort.\u001b[39;49;00m\n",
            "    \u001b[33m    \"\"\"\u001b[39;49;00m\u001b[90m\u001b[39;49;00m\n",
            "        \u001b[90m### BEGIN YOUR SOLUTION\u001b[39;49;00m\u001b[90m\u001b[39;49;00m\n",
            ">       \u001b[94mraise\u001b[39;49;00m \u001b[96mNotImplementedError\u001b[39;49;00m()\u001b[90m\u001b[39;49;00m\n",
            "\u001b[1m\u001b[31mE       NotImplementedError\u001b[0m\n",
            "\n",
            "node_list  = [needle.Tensor([-1.0610865])]\n",
            "\n",
            "\u001b[1m\u001b[31mpython/needle/autograd.py\u001b[0m:397: NotImplementedError\n",
            "\u001b[31m\u001b[1m_______________________________ test_stack_backward[cpu-shape1-0-2] ________________________________\u001b[0m\n",
            "\n",
            "shape = (5, 5), axis = 0, l = 2, device = cpu()\n",
            "\n",
            "    \u001b[0m\u001b[37m@pytest\u001b[39;49;00m.mark.parametrize(\u001b[33m\"\u001b[39;49;00m\u001b[33mshape, axis, l\u001b[39;49;00m\u001b[33m\"\u001b[39;49;00m, STACK_PARAMETERS)\u001b[90m\u001b[39;49;00m\n",
            "    \u001b[37m@pytest\u001b[39;49;00m.mark.parametrize(\u001b[33m\"\u001b[39;49;00m\u001b[33mdevice\u001b[39;49;00m\u001b[33m\"\u001b[39;49;00m, _DEVICES, ids=[\u001b[33m\"\u001b[39;49;00m\u001b[33mcpu\u001b[39;49;00m\u001b[33m\"\u001b[39;49;00m, \u001b[33m\"\u001b[39;49;00m\u001b[33mcuda\u001b[39;49;00m\u001b[33m\"\u001b[39;49;00m])\u001b[90m\u001b[39;49;00m\n",
            "    \u001b[94mdef\u001b[39;49;00m \u001b[92mtest_stack_backward\u001b[39;49;00m(shape, axis, l, device):\u001b[90m\u001b[39;49;00m\n",
            "        _A = [np.random.randn(*shape).astype(np.float32) \u001b[94mfor\u001b[39;49;00m i \u001b[95min\u001b[39;49;00m \u001b[96mrange\u001b[39;49;00m(l)]\u001b[90m\u001b[39;49;00m\n",
            "        A = [ndl.Tensor(nd.array(_A[i]), device=device) \u001b[94mfor\u001b[39;49;00m i \u001b[95min\u001b[39;49;00m \u001b[96mrange\u001b[39;49;00m(l)]\u001b[90m\u001b[39;49;00m\n",
            "        A_t = [torch.Tensor(_A[i]) \u001b[94mfor\u001b[39;49;00m i \u001b[95min\u001b[39;49;00m \u001b[96mrange\u001b[39;49;00m(l)]\u001b[90m\u001b[39;49;00m\n",
            "        \u001b[94mfor\u001b[39;49;00m i \u001b[95min\u001b[39;49;00m \u001b[96mrange\u001b[39;49;00m(l):\u001b[90m\u001b[39;49;00m\n",
            "            A_t[i].requires_grad = \u001b[94mTrue\u001b[39;49;00m\u001b[90m\u001b[39;49;00m\n",
            ">       ndl.stack(A, axis=axis).sum().backward()\u001b[90m\u001b[39;49;00m\n",
            "\n",
            "A          = [needle.Tensor([[ 0.9690866  -0.28394625  0.33293626 -0.42827228  0.93194336]\n",
            " [ 0.1597074   0.22815192  0.17047247  0...297   0.2660959  -0.24795476  0.3958428   0.45457375]\n",
            " [-1.3473928   0.5227974   1.1009963  -2.0672407  -0.5026022 ]])]\n",
            "A_t        = [tensor([[ 0.9691, -0.2839,  0.3329, -0.4283,  0.9319],\n",
            "        [ 0.1597,  0.2282,  0.1705,  0.4286, -2.0502],\n",
            "       ...9734,  0.2661, -0.2480,  0.3958,  0.4546],\n",
            "        [-1.3474,  0.5228,  1.1010, -2.0672, -0.5026]], requires_grad=True)]\n",
            "_A         = [array([[ 0.9690866 , -0.28394625,  0.33293626, -0.42827228,  0.93194336],\n",
            "       [ 0.1597074 ,  0.22815192,  0.170472...958428 ,  0.45457375],\n",
            "       [-1.3473928 ,  0.5227974 ,  1.1009963 , -2.0672407 , -0.5026022 ]],\n",
            "      dtype=float32)]\n",
            "axis       = 0\n",
            "device     = cpu()\n",
            "i          = 1\n",
            "l          = 2\n",
            "shape      = (5, 5)\n",
            "\n",
            "\u001b[1m\u001b[31mtests/hw4/test_nd_backend.py\u001b[0m:167: \n",
            "_ _ _ _ _ _ _ _ _ _ _ _ _ _ _ _ _ _ _ _ _ _ _ _ _ _ _ _ _ _ _ _ _ _ _ _ _ _ _ _ _ _ _ _ _ _ _ _ _ _ \n",
            "\u001b[1m\u001b[31mpython/needle/autograd.py\u001b[0m:297: in backward\n",
            "    \u001b[0mcompute_gradient_of_variables(\u001b[96mself\u001b[39;49;00m, out_grad)\u001b[90m\u001b[39;49;00m\n",
            "        out_grad   = needle.Tensor([1.])\n",
            "        self       = needle.Tensor([2.610516])\n",
            "\u001b[1m\u001b[31mpython/needle/autograd.py\u001b[0m:381: in compute_gradient_of_variables\n",
            "    \u001b[0mreverse_topo_order = \u001b[96mlist\u001b[39;49;00m(\u001b[96mreversed\u001b[39;49;00m(find_topo_sort([output_tensor])))\u001b[90m\u001b[39;49;00m\n",
            "        node_to_output_grads_list = {needle.Tensor([2.610516]): [needle.Tensor([1.])]}\n",
            "        out_grad   = needle.Tensor([1.])\n",
            "        output_tensor = needle.Tensor([2.610516])\n",
            "_ _ _ _ _ _ _ _ _ _ _ _ _ _ _ _ _ _ _ _ _ _ _ _ _ _ _ _ _ _ _ _ _ _ _ _ _ _ _ _ _ _ _ _ _ _ _ _ _ _ \n",
            "\n",
            "node_list = [needle.Tensor([2.610516])]\n",
            "\n",
            "    \u001b[0m\u001b[94mdef\u001b[39;49;00m \u001b[92mfind_topo_sort\u001b[39;49;00m(node_list: List[Value]) -> List[Value]:\u001b[90m\u001b[39;49;00m\n",
            "    \u001b[90m    \u001b[39;49;00m\u001b[33m\"\"\"Given a list of nodes, return a topological sort list of nodes ending in them.\u001b[39;49;00m\n",
            "    \u001b[33m\u001b[39;49;00m\n",
            "    \u001b[33m    A simple algorithm is to do a post-order DFS traversal on the given nodes,\u001b[39;49;00m\n",
            "    \u001b[33m    going backwards based on input edges. Since a node is added to the ordering\u001b[39;49;00m\n",
            "    \u001b[33m    after all its predecessors are traversed due to post-order DFS, we get a topological\u001b[39;49;00m\n",
            "    \u001b[33m    sort.\u001b[39;49;00m\n",
            "    \u001b[33m    \"\"\"\u001b[39;49;00m\u001b[90m\u001b[39;49;00m\n",
            "        \u001b[90m### BEGIN YOUR SOLUTION\u001b[39;49;00m\u001b[90m\u001b[39;49;00m\n",
            ">       \u001b[94mraise\u001b[39;49;00m \u001b[96mNotImplementedError\u001b[39;49;00m()\u001b[90m\u001b[39;49;00m\n",
            "\u001b[1m\u001b[31mE       NotImplementedError\u001b[0m\n",
            "\n",
            "node_list  = [needle.Tensor([2.610516])]\n",
            "\n",
            "\u001b[1m\u001b[31mpython/needle/autograd.py\u001b[0m:397: NotImplementedError\n",
            "\u001b[31m\u001b[1m_______________________________ test_stack_backward[cpu-shape2-2-5] ________________________________\u001b[0m\n",
            "\n",
            "shape = (1, 5, 7), axis = 2, l = 5, device = cpu()\n",
            "\n",
            "    \u001b[0m\u001b[37m@pytest\u001b[39;49;00m.mark.parametrize(\u001b[33m\"\u001b[39;49;00m\u001b[33mshape, axis, l\u001b[39;49;00m\u001b[33m\"\u001b[39;49;00m, STACK_PARAMETERS)\u001b[90m\u001b[39;49;00m\n",
            "    \u001b[37m@pytest\u001b[39;49;00m.mark.parametrize(\u001b[33m\"\u001b[39;49;00m\u001b[33mdevice\u001b[39;49;00m\u001b[33m\"\u001b[39;49;00m, _DEVICES, ids=[\u001b[33m\"\u001b[39;49;00m\u001b[33mcpu\u001b[39;49;00m\u001b[33m\"\u001b[39;49;00m, \u001b[33m\"\u001b[39;49;00m\u001b[33mcuda\u001b[39;49;00m\u001b[33m\"\u001b[39;49;00m])\u001b[90m\u001b[39;49;00m\n",
            "    \u001b[94mdef\u001b[39;49;00m \u001b[92mtest_stack_backward\u001b[39;49;00m(shape, axis, l, device):\u001b[90m\u001b[39;49;00m\n",
            "        _A = [np.random.randn(*shape).astype(np.float32) \u001b[94mfor\u001b[39;49;00m i \u001b[95min\u001b[39;49;00m \u001b[96mrange\u001b[39;49;00m(l)]\u001b[90m\u001b[39;49;00m\n",
            "        A = [ndl.Tensor(nd.array(_A[i]), device=device) \u001b[94mfor\u001b[39;49;00m i \u001b[95min\u001b[39;49;00m \u001b[96mrange\u001b[39;49;00m(l)]\u001b[90m\u001b[39;49;00m\n",
            "        A_t = [torch.Tensor(_A[i]) \u001b[94mfor\u001b[39;49;00m i \u001b[95min\u001b[39;49;00m \u001b[96mrange\u001b[39;49;00m(l)]\u001b[90m\u001b[39;49;00m\n",
            "        \u001b[94mfor\u001b[39;49;00m i \u001b[95min\u001b[39;49;00m \u001b[96mrange\u001b[39;49;00m(l):\u001b[90m\u001b[39;49;00m\n",
            "            A_t[i].requires_grad = \u001b[94mTrue\u001b[39;49;00m\u001b[90m\u001b[39;49;00m\n",
            ">       ndl.stack(A, axis=axis).sum().backward()\u001b[90m\u001b[39;49;00m\n",
            "\n",
            "A          = [needle.Tensor([[[ 0.575385    0.19826922  0.3358586   0.7329904   1.9778988\n",
            "    0.7161346  -0.86407554]\n",
            "  [ 0.1507101...   0.6039443  -1.0119154 ]\n",
            "  [ 0.44852072 -0.7156536  -0.28398412  1.3041083   1.387943\n",
            "    1.4733936  -0.68743455]]])]\n",
            "A_t        = [tensor([[[ 0.5754,  0.1983,  0.3359,  0.7330,  1.9779,  0.7161, -0.8641],\n",
            "         [ 0.1507,  0.1197,  0.4539, -0.213...6039, -1.0119],\n",
            "         [ 0.4485, -0.7157, -0.2840,  1.3041,  1.3879,  1.4734, -0.6874]]],\n",
            "       requires_grad=True)]\n",
            "_A         = [array([[[ 0.575385  ,  0.19826922,  0.3358586 ,  0.7329904 ,\n",
            "          1.9778988 ,  0.7161346 , -0.86407554],\n",
            "       ...[ 0.44852072, -0.7156536 , -0.28398412,  1.3041083 ,\n",
            "          1.387943  ,  1.4733936 , -0.68743455]]], dtype=float32)]\n",
            "axis       = 2\n",
            "device     = cpu()\n",
            "i          = 4\n",
            "l          = 5\n",
            "shape      = (1, 5, 7)\n",
            "\n",
            "\u001b[1m\u001b[31mtests/hw4/test_nd_backend.py\u001b[0m:167: \n",
            "_ _ _ _ _ _ _ _ _ _ _ _ _ _ _ _ _ _ _ _ _ _ _ _ _ _ _ _ _ _ _ _ _ _ _ _ _ _ _ _ _ _ _ _ _ _ _ _ _ _ \n",
            "\u001b[1m\u001b[31mpython/needle/autograd.py\u001b[0m:297: in backward\n",
            "    \u001b[0mcompute_gradient_of_variables(\u001b[96mself\u001b[39;49;00m, out_grad)\u001b[90m\u001b[39;49;00m\n",
            "        out_grad   = needle.Tensor([1.])\n",
            "        self       = needle.Tensor([7.2270656])\n",
            "\u001b[1m\u001b[31mpython/needle/autograd.py\u001b[0m:381: in compute_gradient_of_variables\n",
            "    \u001b[0mreverse_topo_order = \u001b[96mlist\u001b[39;49;00m(\u001b[96mreversed\u001b[39;49;00m(find_topo_sort([output_tensor])))\u001b[90m\u001b[39;49;00m\n",
            "        node_to_output_grads_list = {needle.Tensor([7.2270656]): [needle.Tensor([1.])]}\n",
            "        out_grad   = needle.Tensor([1.])\n",
            "        output_tensor = needle.Tensor([7.2270656])\n",
            "_ _ _ _ _ _ _ _ _ _ _ _ _ _ _ _ _ _ _ _ _ _ _ _ _ _ _ _ _ _ _ _ _ _ _ _ _ _ _ _ _ _ _ _ _ _ _ _ _ _ \n",
            "\n",
            "node_list = [needle.Tensor([7.2270656])]\n",
            "\n",
            "    \u001b[0m\u001b[94mdef\u001b[39;49;00m \u001b[92mfind_topo_sort\u001b[39;49;00m(node_list: List[Value]) -> List[Value]:\u001b[90m\u001b[39;49;00m\n",
            "    \u001b[90m    \u001b[39;49;00m\u001b[33m\"\"\"Given a list of nodes, return a topological sort list of nodes ending in them.\u001b[39;49;00m\n",
            "    \u001b[33m\u001b[39;49;00m\n",
            "    \u001b[33m    A simple algorithm is to do a post-order DFS traversal on the given nodes,\u001b[39;49;00m\n",
            "    \u001b[33m    going backwards based on input edges. Since a node is added to the ordering\u001b[39;49;00m\n",
            "    \u001b[33m    after all its predecessors are traversed due to post-order DFS, we get a topological\u001b[39;49;00m\n",
            "    \u001b[33m    sort.\u001b[39;49;00m\n",
            "    \u001b[33m    \"\"\"\u001b[39;49;00m\u001b[90m\u001b[39;49;00m\n",
            "        \u001b[90m### BEGIN YOUR SOLUTION\u001b[39;49;00m\u001b[90m\u001b[39;49;00m\n",
            ">       \u001b[94mraise\u001b[39;49;00m \u001b[96mNotImplementedError\u001b[39;49;00m()\u001b[90m\u001b[39;49;00m\n",
            "\u001b[1m\u001b[31mE       NotImplementedError\u001b[0m\n",
            "\n",
            "node_list  = [needle.Tensor([7.2270656])]\n",
            "\n",
            "\u001b[1m\u001b[31mpython/needle/autograd.py\u001b[0m:397: NotImplementedError\n",
            "\u001b[31m\u001b[1m_________________________________ test_logsumexp[cpu-shape0-None] __________________________________\u001b[0m\n",
            "\n",
            "shape = (1, 1, 1), axes = None, device = cpu()\n",
            "\n",
            "    \u001b[0m\u001b[37m@pytest\u001b[39;49;00m.mark.parametrize(\u001b[33m\"\u001b[39;49;00m\u001b[33mshape, axes\u001b[39;49;00m\u001b[33m\"\u001b[39;49;00m, SUMMATION_PARAMETERS)\u001b[90m\u001b[39;49;00m\n",
            "    \u001b[37m@pytest\u001b[39;49;00m.mark.parametrize(\u001b[33m\"\u001b[39;49;00m\u001b[33mdevice\u001b[39;49;00m\u001b[33m\"\u001b[39;49;00m, _DEVICES, ids=[\u001b[33m\"\u001b[39;49;00m\u001b[33mcpu\u001b[39;49;00m\u001b[33m\"\u001b[39;49;00m, \u001b[33m\"\u001b[39;49;00m\u001b[33mcuda\u001b[39;49;00m\u001b[33m\"\u001b[39;49;00m])\u001b[90m\u001b[39;49;00m\n",
            "    \u001b[94mdef\u001b[39;49;00m \u001b[92mtest_logsumexp\u001b[39;49;00m(shape, axes, device):\u001b[90m\u001b[39;49;00m\n",
            "        _A = np.random.randn(*shape).astype(np.float32)\u001b[90m\u001b[39;49;00m\n",
            "        A = ndl.Tensor(nd.array(_A), device=device)\u001b[90m\u001b[39;49;00m\n",
            "        A_t = torch.Tensor(_A)\u001b[90m\u001b[39;49;00m\n",
            "        \u001b[94mif\u001b[39;49;00m axes \u001b[95mis\u001b[39;49;00m \u001b[94mNone\u001b[39;49;00m:\u001b[90m\u001b[39;49;00m\n",
            "            t_axes = \u001b[96mtuple\u001b[39;49;00m(\u001b[96mlist\u001b[39;49;00m(\u001b[96mrange\u001b[39;49;00m(\u001b[96mlen\u001b[39;49;00m(shape))))\u001b[90m\u001b[39;49;00m\n",
            "        \u001b[94melse\u001b[39;49;00m:\u001b[90m\u001b[39;49;00m\n",
            "            t_axes = axes\u001b[90m\u001b[39;49;00m\n",
            ">       np.testing.assert_allclose(torch.logsumexp(A_t, dim=t_axes).numpy(), ndl.logsumexp(A, axes=axes).numpy(), atol=\u001b[94m1e-5\u001b[39;49;00m, rtol=\u001b[94m1e-5\u001b[39;49;00m)\u001b[90m\u001b[39;49;00m\n",
            "\n",
            "A          = needle.Tensor([[[-0.5395077]]])\n",
            "A_t        = tensor([[[-0.5395]]])\n",
            "_A         = array([[[-0.5395077]]], dtype=float32)\n",
            "axes       = None\n",
            "device     = cpu()\n",
            "shape      = (1, 1, 1)\n",
            "t_axes     = (0, 1, 2)\n",
            "\n",
            "\u001b[1m\u001b[31mtests/hw4/test_nd_backend.py\u001b[0m:239: \n",
            "_ _ _ _ _ _ _ _ _ _ _ _ _ _ _ _ _ _ _ _ _ _ _ _ _ _ _ _ _ _ _ _ _ _ _ _ _ _ _ _ _ _ _ _ _ _ _ _ _ _ \n",
            "\u001b[1m\u001b[31mpython/needle/ops/ops_logarithmic.py\u001b[0m:82: in logsumexp\n",
            "    \u001b[0m\u001b[94mreturn\u001b[39;49;00m LogSumExp(axes=axes)(a)\u001b[90m\u001b[39;49;00m\n",
            "        a          = needle.Tensor([[[-0.5395077]]])\n",
            "        axes       = None\n",
            "\u001b[1m\u001b[31mpython/needle/autograd.py\u001b[0m:80: in __call__\n",
            "    \u001b[0m\u001b[94mreturn\u001b[39;49;00m Tensor.make_from_op(\u001b[96mself\u001b[39;49;00m, args)\u001b[90m\u001b[39;49;00m\n",
            "        args       = (needle.Tensor([[[-0.5395077]]]),)\n",
            "        self       = <needle.ops.ops_logarithmic.LogSumExp object at 0x785f520ba590>\n",
            "\u001b[1m\u001b[31mpython/needle/autograd.py\u001b[0m:242: in make_from_op\n",
            "    \u001b[0mtensor.realize_cached_data()\u001b[90m\u001b[39;49;00m\n",
            "        inputs     = (needle.Tensor([[[-0.5395077]]]),)\n",
            "        op         = <needle.ops.ops_logarithmic.LogSumExp object at 0x785f520ba590>\n",
            "        tensor     = <[AttributeError(\"module 'needle.backend_ndarray' has no attribute 'summation'\") raised in repr()] Tensor object at 0x785f520bb3d0>\n",
            "\u001b[1m\u001b[31mpython/needle/autograd.py\u001b[0m:107: in realize_cached_data\n",
            "    \u001b[0m\u001b[96mself\u001b[39;49;00m.cached_data = \u001b[96mself\u001b[39;49;00m.op.compute(\u001b[90m\u001b[39;49;00m\n",
            "        self       = <[AttributeError(\"module 'needle.backend_ndarray' has no attribute 'summation'\") raised in repr()] Tensor object at 0x785f520bb3d0>\n",
            "_ _ _ _ _ _ _ _ _ _ _ _ _ _ _ _ _ _ _ _ _ _ _ _ _ _ _ _ _ _ _ _ _ _ _ _ _ _ _ _ _ _ _ _ _ _ _ _ _ _ \n",
            "\n",
            "self = <needle.ops.ops_logarithmic.LogSumExp object at 0x785f520ba590>\n",
            "Z = NDArray([[[-0.5395077]]], device=cpu())\n",
            "\n",
            "    \u001b[0m\u001b[94mdef\u001b[39;49;00m \u001b[92mcompute\u001b[39;49;00m(\u001b[96mself\u001b[39;49;00m, Z):\u001b[90m\u001b[39;49;00m\n",
            "        \u001b[90m### BEGIN YOUR SOLUTION\u001b[39;49;00m\u001b[90m\u001b[39;49;00m\n",
            "        Z_max = Z.max(axis=\u001b[96mself\u001b[39;49;00m.axes)\u001b[90m\u001b[39;49;00m\n",
            "        Z_shape = \u001b[96mlist\u001b[39;49;00m(Z.shape)\u001b[90m\u001b[39;49;00m\n",
            "        \u001b[94mif\u001b[39;49;00m \u001b[96mself\u001b[39;49;00m.axes \u001b[95mis\u001b[39;49;00m \u001b[95mnot\u001b[39;49;00m \u001b[94mNone\u001b[39;49;00m:\u001b[90m\u001b[39;49;00m\n",
            "            \u001b[94mfor\u001b[39;49;00m axis \u001b[95min\u001b[39;49;00m \u001b[96mself\u001b[39;49;00m.axes:\u001b[90m\u001b[39;49;00m\n",
            "                Z_shape[axis] = \u001b[94m1\u001b[39;49;00m\u001b[90m\u001b[39;49;00m\n",
            "            Z_max_reshaped = Z_max.reshape(\u001b[96mtuple\u001b[39;49;00m(Z_shape))\u001b[90m\u001b[39;49;00m\n",
            "        \u001b[94melse\u001b[39;49;00m:\u001b[90m\u001b[39;49;00m\n",
            "            Z_max_reshaped = Z_max.reshape(\u001b[96mtuple\u001b[39;49;00m([\u001b[94m1\u001b[39;49;00m \u001b[94mfor\u001b[39;49;00m _ \u001b[95min\u001b[39;49;00m Z_shape]))\u001b[90m\u001b[39;49;00m\n",
            "        Z_normalized = Z - Z_max_reshaped.broadcast_to(Z.shape)\u001b[90m\u001b[39;49;00m\n",
            ">       \u001b[94mreturn\u001b[39;49;00m array_api.log(array_api.summation( array_api.exp(Z_normalized), axis = \u001b[96mself\u001b[39;49;00m.axes )) + Z_max\u001b[90m\u001b[39;49;00m\n",
            "\u001b[1m\u001b[31mE       AttributeError: module 'needle.backend_ndarray' has no attribute 'summation'\u001b[0m\n",
            "\n",
            "Z          = NDArray([[[-0.5395077]]], device=cpu())\n",
            "Z_max      = NDArray([-0.5395077], device=cpu())\n",
            "Z_max_reshaped = NDArray([[[-0.5395077]]], device=cpu())\n",
            "Z_normalized = NDArray([[[0.]]], device=cpu())\n",
            "Z_shape    = [1, 1, 1]\n",
            "self       = <needle.ops.ops_logarithmic.LogSumExp object at 0x785f520ba590>\n",
            "\n",
            "\u001b[1m\u001b[31mpython/needle/ops/ops_logarithmic.py\u001b[0m:55: AttributeError\n",
            "\u001b[31m\u001b[1m___________________________________ test_logsumexp[cpu-shape1-0] ___________________________________\u001b[0m\n",
            "\n",
            "shape = (5, 3), axes = 0, device = cpu()\n",
            "\n",
            "    \u001b[0m\u001b[37m@pytest\u001b[39;49;00m.mark.parametrize(\u001b[33m\"\u001b[39;49;00m\u001b[33mshape, axes\u001b[39;49;00m\u001b[33m\"\u001b[39;49;00m, SUMMATION_PARAMETERS)\u001b[90m\u001b[39;49;00m\n",
            "    \u001b[37m@pytest\u001b[39;49;00m.mark.parametrize(\u001b[33m\"\u001b[39;49;00m\u001b[33mdevice\u001b[39;49;00m\u001b[33m\"\u001b[39;49;00m, _DEVICES, ids=[\u001b[33m\"\u001b[39;49;00m\u001b[33mcpu\u001b[39;49;00m\u001b[33m\"\u001b[39;49;00m, \u001b[33m\"\u001b[39;49;00m\u001b[33mcuda\u001b[39;49;00m\u001b[33m\"\u001b[39;49;00m])\u001b[90m\u001b[39;49;00m\n",
            "    \u001b[94mdef\u001b[39;49;00m \u001b[92mtest_logsumexp\u001b[39;49;00m(shape, axes, device):\u001b[90m\u001b[39;49;00m\n",
            "        _A = np.random.randn(*shape).astype(np.float32)\u001b[90m\u001b[39;49;00m\n",
            "        A = ndl.Tensor(nd.array(_A), device=device)\u001b[90m\u001b[39;49;00m\n",
            "        A_t = torch.Tensor(_A)\u001b[90m\u001b[39;49;00m\n",
            "        \u001b[94mif\u001b[39;49;00m axes \u001b[95mis\u001b[39;49;00m \u001b[94mNone\u001b[39;49;00m:\u001b[90m\u001b[39;49;00m\n",
            "            t_axes = \u001b[96mtuple\u001b[39;49;00m(\u001b[96mlist\u001b[39;49;00m(\u001b[96mrange\u001b[39;49;00m(\u001b[96mlen\u001b[39;49;00m(shape))))\u001b[90m\u001b[39;49;00m\n",
            "        \u001b[94melse\u001b[39;49;00m:\u001b[90m\u001b[39;49;00m\n",
            "            t_axes = axes\u001b[90m\u001b[39;49;00m\n",
            ">       np.testing.assert_allclose(torch.logsumexp(A_t, dim=t_axes).numpy(), ndl.logsumexp(A, axes=axes).numpy(), atol=\u001b[94m1e-5\u001b[39;49;00m, rtol=\u001b[94m1e-5\u001b[39;49;00m)\u001b[90m\u001b[39;49;00m\n",
            "\n",
            "A          = needle.Tensor([[ 0.7250658  -0.19577685  0.2609733 ]\n",
            " [ 0.45240352 -0.2548765  -1.6094449 ]\n",
            " [ 2.0941243   0.28460875  0.31296384]\n",
            " [-1.2191344  -1.1221304   1.3478742 ]\n",
            " [-1.7628291  -0.3139097  -0.34780467]])\n",
            "A_t        = tensor([[ 0.7251, -0.1958,  0.2610],\n",
            "        [ 0.4524, -0.2549, -1.6094],\n",
            "        [ 2.0941,  0.2846,  0.3130],\n",
            "        [-1.2191, -1.1221,  1.3479],\n",
            "        [-1.7628, -0.3139, -0.3478]])\n",
            "_A         = array([[ 0.7250658 , -0.19577685,  0.2609733 ],\n",
            "       [ 0.45240352, -0.2548765 , -1.6094449 ],\n",
            "       [ 2.0941243 ,  ...96384],\n",
            "       [-1.2191344 , -1.1221304 ,  1.3478742 ],\n",
            "       [-1.7628291 , -0.3139097 , -0.34780467]], dtype=float32)\n",
            "axes       = 0\n",
            "device     = cpu()\n",
            "shape      = (5, 3)\n",
            "t_axes     = 0\n",
            "\n",
            "\u001b[1m\u001b[31mtests/hw4/test_nd_backend.py\u001b[0m:239: \n",
            "_ _ _ _ _ _ _ _ _ _ _ _ _ _ _ _ _ _ _ _ _ _ _ _ _ _ _ _ _ _ _ _ _ _ _ _ _ _ _ _ _ _ _ _ _ _ _ _ _ _ \n",
            "\u001b[1m\u001b[31mpython/needle/ops/ops_logarithmic.py\u001b[0m:82: in logsumexp\n",
            "    \u001b[0m\u001b[94mreturn\u001b[39;49;00m LogSumExp(axes=axes)(a)\u001b[90m\u001b[39;49;00m\n",
            "        a          = needle.Tensor([[ 0.7250658  -0.19577685  0.2609733 ]\n",
            " [ 0.45240352 -0.2548765  -1.6094449 ]\n",
            " [ 2.0941243   0.28460875  0.31296384]\n",
            " [-1.2191344  -1.1221304   1.3478742 ]\n",
            " [-1.7628291  -0.3139097  -0.34780467]])\n",
            "        axes       = 0\n",
            "\u001b[1m\u001b[31mpython/needle/autograd.py\u001b[0m:80: in __call__\n",
            "    \u001b[0m\u001b[94mreturn\u001b[39;49;00m Tensor.make_from_op(\u001b[96mself\u001b[39;49;00m, args)\u001b[90m\u001b[39;49;00m\n",
            "        args       = (needle.Tensor([[ 0.7250658  -0.19577685  0.2609733 ]\n",
            " [ 0.45240352 -0.2548765  -1.6094449 ]\n",
            " [ 2.0941243   0.28460875  0.31296384]\n",
            " [-1.2191344  -1.1221304   1.3478742 ]\n",
            " [-1.7628291  -0.3139097  -0.34780467]]),)\n",
            "        self       = <needle.ops.ops_logarithmic.LogSumExp object at 0x785f5420bd00>\n",
            "\u001b[1m\u001b[31mpython/needle/autograd.py\u001b[0m:242: in make_from_op\n",
            "    \u001b[0mtensor.realize_cached_data()\u001b[90m\u001b[39;49;00m\n",
            "        inputs     = (needle.Tensor([[ 0.7250658  -0.19577685  0.2609733 ]\n",
            " [ 0.45240352 -0.2548765  -1.6094449 ]\n",
            " [ 2.0941243   0.28460875  0.31296384]\n",
            " [-1.2191344  -1.1221304   1.3478742 ]\n",
            " [-1.7628291  -0.3139097  -0.34780467]]),)\n",
            "        op         = <needle.ops.ops_logarithmic.LogSumExp object at 0x785f5420bd00>\n",
            "        tensor     = <[AttributeError(\"module 'needle.backend_ndarray' has no attribute 'summation'\") raised in repr()] Tensor object at 0x785f5420b5e0>\n",
            "\u001b[1m\u001b[31mpython/needle/autograd.py\u001b[0m:107: in realize_cached_data\n",
            "    \u001b[0m\u001b[96mself\u001b[39;49;00m.cached_data = \u001b[96mself\u001b[39;49;00m.op.compute(\u001b[90m\u001b[39;49;00m\n",
            "        self       = <[AttributeError(\"module 'needle.backend_ndarray' has no attribute 'summation'\") raised in repr()] Tensor object at 0x785f5420b5e0>\n",
            "_ _ _ _ _ _ _ _ _ _ _ _ _ _ _ _ _ _ _ _ _ _ _ _ _ _ _ _ _ _ _ _ _ _ _ _ _ _ _ _ _ _ _ _ _ _ _ _ _ _ \n",
            "\n",
            "self = <needle.ops.ops_logarithmic.LogSumExp object at 0x785f5420bd00>\n",
            "Z = NDArray([[ 0.7250658  -0.19577685  0.2609733 ]\n",
            " [ 0.45240352 -0.2548765  -1.6094449 ]\n",
            " [ 2.0941243   0.28460875  0.31296384]\n",
            " [-1.2191344  -1.1221304   1.3478742 ]\n",
            " [-1.7628291  -0.3139097  -0.34780467]], device=cpu())\n",
            "\n",
            "    \u001b[0m\u001b[94mdef\u001b[39;49;00m \u001b[92mcompute\u001b[39;49;00m(\u001b[96mself\u001b[39;49;00m, Z):\u001b[90m\u001b[39;49;00m\n",
            "        \u001b[90m### BEGIN YOUR SOLUTION\u001b[39;49;00m\u001b[90m\u001b[39;49;00m\n",
            "        Z_max = Z.max(axis=\u001b[96mself\u001b[39;49;00m.axes)\u001b[90m\u001b[39;49;00m\n",
            "        Z_shape = \u001b[96mlist\u001b[39;49;00m(Z.shape)\u001b[90m\u001b[39;49;00m\n",
            "        \u001b[94mif\u001b[39;49;00m \u001b[96mself\u001b[39;49;00m.axes \u001b[95mis\u001b[39;49;00m \u001b[95mnot\u001b[39;49;00m \u001b[94mNone\u001b[39;49;00m:\u001b[90m\u001b[39;49;00m\n",
            "            \u001b[94mfor\u001b[39;49;00m axis \u001b[95min\u001b[39;49;00m \u001b[96mself\u001b[39;49;00m.axes:\u001b[90m\u001b[39;49;00m\n",
            "                Z_shape[axis] = \u001b[94m1\u001b[39;49;00m\u001b[90m\u001b[39;49;00m\n",
            "            Z_max_reshaped = Z_max.reshape(\u001b[96mtuple\u001b[39;49;00m(Z_shape))\u001b[90m\u001b[39;49;00m\n",
            "        \u001b[94melse\u001b[39;49;00m:\u001b[90m\u001b[39;49;00m\n",
            "            Z_max_reshaped = Z_max.reshape(\u001b[96mtuple\u001b[39;49;00m([\u001b[94m1\u001b[39;49;00m \u001b[94mfor\u001b[39;49;00m _ \u001b[95min\u001b[39;49;00m Z_shape]))\u001b[90m\u001b[39;49;00m\n",
            "        Z_normalized = Z - Z_max_reshaped.broadcast_to(Z.shape)\u001b[90m\u001b[39;49;00m\n",
            ">       \u001b[94mreturn\u001b[39;49;00m array_api.log(array_api.summation( array_api.exp(Z_normalized), axis = \u001b[96mself\u001b[39;49;00m.axes )) + Z_max\u001b[90m\u001b[39;49;00m\n",
            "\u001b[1m\u001b[31mE       AttributeError: module 'needle.backend_ndarray' has no attribute 'summation'\u001b[0m\n",
            "\n",
            "Z          = NDArray([[ 0.7250658  -0.19577685  0.2609733 ]\n",
            " [ 0.45240352 -0.2548765  -1.6094449 ]\n",
            " [ 2.0941243   0.28460875  0.31296384]\n",
            " [-1.2191344  -1.1221304   1.3478742 ]\n",
            " [-1.7628291  -0.3139097  -0.34780467]], device=cpu())\n",
            "Z_max      = NDArray([2.0941243  0.28460875 1.3478742 ], device=cpu())\n",
            "Z_max_reshaped = NDArray([[2.0941243  0.28460875 1.3478742 ]], device=cpu())\n",
            "Z_normalized = NDArray([[-1.3690585 -0.4803856 -1.0869008]\n",
            " [-1.6417208 -0.5394852 -2.957319 ]\n",
            " [ 0.         0.        -1.0349103]\n",
            " [-3.3132586 -1.4067391  0.       ]\n",
            " [-3.8569534 -0.5985185 -1.6956788]], device=cpu())\n",
            "Z_shape    = [1, 3]\n",
            "axis       = 0\n",
            "self       = <needle.ops.ops_logarithmic.LogSumExp object at 0x785f5420bd00>\n",
            "\n",
            "\u001b[1m\u001b[31mpython/needle/ops/ops_logarithmic.py\u001b[0m:55: AttributeError\n",
            "\u001b[31m\u001b[1m___________________________________ test_logsumexp[cpu-shape2-1] ___________________________________\u001b[0m\n",
            "\n",
            "shape = (8, 3, 2), axes = 1, device = cpu()\n",
            "\n",
            "    \u001b[0m\u001b[37m@pytest\u001b[39;49;00m.mark.parametrize(\u001b[33m\"\u001b[39;49;00m\u001b[33mshape, axes\u001b[39;49;00m\u001b[33m\"\u001b[39;49;00m, SUMMATION_PARAMETERS)\u001b[90m\u001b[39;49;00m\n",
            "    \u001b[37m@pytest\u001b[39;49;00m.mark.parametrize(\u001b[33m\"\u001b[39;49;00m\u001b[33mdevice\u001b[39;49;00m\u001b[33m\"\u001b[39;49;00m, _DEVICES, ids=[\u001b[33m\"\u001b[39;49;00m\u001b[33mcpu\u001b[39;49;00m\u001b[33m\"\u001b[39;49;00m, \u001b[33m\"\u001b[39;49;00m\u001b[33mcuda\u001b[39;49;00m\u001b[33m\"\u001b[39;49;00m])\u001b[90m\u001b[39;49;00m\n",
            "    \u001b[94mdef\u001b[39;49;00m \u001b[92mtest_logsumexp\u001b[39;49;00m(shape, axes, device):\u001b[90m\u001b[39;49;00m\n",
            "        _A = np.random.randn(*shape).astype(np.float32)\u001b[90m\u001b[39;49;00m\n",
            "        A = ndl.Tensor(nd.array(_A), device=device)\u001b[90m\u001b[39;49;00m\n",
            "        A_t = torch.Tensor(_A)\u001b[90m\u001b[39;49;00m\n",
            "        \u001b[94mif\u001b[39;49;00m axes \u001b[95mis\u001b[39;49;00m \u001b[94mNone\u001b[39;49;00m:\u001b[90m\u001b[39;49;00m\n",
            "            t_axes = \u001b[96mtuple\u001b[39;49;00m(\u001b[96mlist\u001b[39;49;00m(\u001b[96mrange\u001b[39;49;00m(\u001b[96mlen\u001b[39;49;00m(shape))))\u001b[90m\u001b[39;49;00m\n",
            "        \u001b[94melse\u001b[39;49;00m:\u001b[90m\u001b[39;49;00m\n",
            "            t_axes = axes\u001b[90m\u001b[39;49;00m\n",
            ">       np.testing.assert_allclose(torch.logsumexp(A_t, dim=t_axes).numpy(), ndl.logsumexp(A, axes=axes).numpy(), atol=\u001b[94m1e-5\u001b[39;49;00m, rtol=\u001b[94m1e-5\u001b[39;49;00m)\u001b[90m\u001b[39;49;00m\n",
            "\n",
            "A          = needle.Tensor([[[ 0.3302983  -0.340832  ]\n",
            "  [ 0.61795366 -0.5573774 ]\n",
            "  [ 0.98945314  0.10835913]]\n",
            "\n",
            " [[ 1.0003321   1.... ]\n",
            "  [-0.42839643  1.8128349 ]]\n",
            "\n",
            " [[-0.39105508  1.7389957 ]\n",
            "  [-0.1451655  -1.9387268 ]\n",
            "  [-0.3850593  -1.0773765 ]]])\n",
            "A_t        = tensor([[[ 0.3303, -0.3408],\n",
            "         [ 0.6180, -0.5574],\n",
            "         [ 0.9895,  0.1084]],\n",
            "\n",
            "        [[ 1.0003,  1.3745],\n",
            "...         [-0.4284,  1.8128]],\n",
            "\n",
            "        [[-0.3911,  1.7390],\n",
            "         [-0.1452, -1.9387],\n",
            "         [-0.3851, -1.0774]]])\n",
            "_A         = array([[[ 0.3302983 , -0.340832  ],\n",
            "        [ 0.61795366, -0.5573774 ],\n",
            "        [ 0.98945314,  0.10835913]],\n",
            "\n",
            "       [...  [[-0.39105508,  1.7389957 ],\n",
            "        [-0.1451655 , -1.9387268 ],\n",
            "        [-0.3850593 , -1.0773765 ]]], dtype=float32)\n",
            "axes       = 1\n",
            "device     = cpu()\n",
            "shape      = (8, 3, 2)\n",
            "t_axes     = 1\n",
            "\n",
            "\u001b[1m\u001b[31mtests/hw4/test_nd_backend.py\u001b[0m:239: \n",
            "_ _ _ _ _ _ _ _ _ _ _ _ _ _ _ _ _ _ _ _ _ _ _ _ _ _ _ _ _ _ _ _ _ _ _ _ _ _ _ _ _ _ _ _ _ _ _ _ _ _ \n",
            "\u001b[1m\u001b[31mpython/needle/ops/ops_logarithmic.py\u001b[0m:82: in logsumexp\n",
            "    \u001b[0m\u001b[94mreturn\u001b[39;49;00m LogSumExp(axes=axes)(a)\u001b[90m\u001b[39;49;00m\n",
            "        a          = needle.Tensor([[[ 0.3302983  -0.340832  ]\n",
            "  [ 0.61795366 -0.5573774 ]\n",
            "  [ 0.98945314  0.10835913]]\n",
            "\n",
            " [[ 1.0003321   1.... ]\n",
            "  [-0.42839643  1.8128349 ]]\n",
            "\n",
            " [[-0.39105508  1.7389957 ]\n",
            "  [-0.1451655  -1.9387268 ]\n",
            "  [-0.3850593  -1.0773765 ]]])\n",
            "        axes       = 1\n",
            "\u001b[1m\u001b[31mpython/needle/autograd.py\u001b[0m:80: in __call__\n",
            "    \u001b[0m\u001b[94mreturn\u001b[39;49;00m Tensor.make_from_op(\u001b[96mself\u001b[39;49;00m, args)\u001b[90m\u001b[39;49;00m\n",
            "        args       = (needle.Tensor([[[ 0.3302983  -0.340832  ]\n",
            "  [ 0.61795366 -0.5573774 ]\n",
            "  [ 0.98945314  0.10835913]]\n",
            "\n",
            " [[ 1.0003321   1...\n",
            "  [-0.42839643  1.8128349 ]]\n",
            "\n",
            " [[-0.39105508  1.7389957 ]\n",
            "  [-0.1451655  -1.9387268 ]\n",
            "  [-0.3850593  -1.0773765 ]]]),)\n",
            "        self       = <needle.ops.ops_logarithmic.LogSumExp object at 0x785f5449c730>\n",
            "\u001b[1m\u001b[31mpython/needle/autograd.py\u001b[0m:242: in make_from_op\n",
            "    \u001b[0mtensor.realize_cached_data()\u001b[90m\u001b[39;49;00m\n",
            "        inputs     = (needle.Tensor([[[ 0.3302983  -0.340832  ]\n",
            "  [ 0.61795366 -0.5573774 ]\n",
            "  [ 0.98945314  0.10835913]]\n",
            "\n",
            " [[ 1.0003321   1...\n",
            "  [-0.42839643  1.8128349 ]]\n",
            "\n",
            " [[-0.39105508  1.7389957 ]\n",
            "  [-0.1451655  -1.9387268 ]\n",
            "  [-0.3850593  -1.0773765 ]]]),)\n",
            "        op         = <needle.ops.ops_logarithmic.LogSumExp object at 0x785f5449c730>\n",
            "        tensor     = <[AttributeError(\"module 'needle.backend_ndarray' has no attribute 'summation'\") raised in repr()] Tensor object at 0x785f54553b20>\n",
            "\u001b[1m\u001b[31mpython/needle/autograd.py\u001b[0m:107: in realize_cached_data\n",
            "    \u001b[0m\u001b[96mself\u001b[39;49;00m.cached_data = \u001b[96mself\u001b[39;49;00m.op.compute(\u001b[90m\u001b[39;49;00m\n",
            "        self       = <[AttributeError(\"module 'needle.backend_ndarray' has no attribute 'summation'\") raised in repr()] Tensor object at 0x785f54553b20>\n",
            "_ _ _ _ _ _ _ _ _ _ _ _ _ _ _ _ _ _ _ _ _ _ _ _ _ _ _ _ _ _ _ _ _ _ _ _ _ _ _ _ _ _ _ _ _ _ _ _ _ _ \n",
            "\n",
            "self = <needle.ops.ops_logarithmic.LogSumExp object at 0x785f5449c730>\n",
            "Z = NDArray([[[ 0.3302983  -0.340832  ]\n",
            "  [ 0.61795366 -0.5573774 ]\n",
            "  [ 0.98945314  0.10835913]]\n",
            "\n",
            " [[ 1.0003321   1.374513...643  1.8128349 ]]\n",
            "\n",
            " [[-0.39105508  1.7389957 ]\n",
            "  [-0.1451655  -1.9387268 ]\n",
            "  [-0.3850593  -1.0773765 ]]], device=cpu())\n",
            "\n",
            "    \u001b[0m\u001b[94mdef\u001b[39;49;00m \u001b[92mcompute\u001b[39;49;00m(\u001b[96mself\u001b[39;49;00m, Z):\u001b[90m\u001b[39;49;00m\n",
            "        \u001b[90m### BEGIN YOUR SOLUTION\u001b[39;49;00m\u001b[90m\u001b[39;49;00m\n",
            "        Z_max = Z.max(axis=\u001b[96mself\u001b[39;49;00m.axes)\u001b[90m\u001b[39;49;00m\n",
            "        Z_shape = \u001b[96mlist\u001b[39;49;00m(Z.shape)\u001b[90m\u001b[39;49;00m\n",
            "        \u001b[94mif\u001b[39;49;00m \u001b[96mself\u001b[39;49;00m.axes \u001b[95mis\u001b[39;49;00m \u001b[95mnot\u001b[39;49;00m \u001b[94mNone\u001b[39;49;00m:\u001b[90m\u001b[39;49;00m\n",
            "            \u001b[94mfor\u001b[39;49;00m axis \u001b[95min\u001b[39;49;00m \u001b[96mself\u001b[39;49;00m.axes:\u001b[90m\u001b[39;49;00m\n",
            "                Z_shape[axis] = \u001b[94m1\u001b[39;49;00m\u001b[90m\u001b[39;49;00m\n",
            "            Z_max_reshaped = Z_max.reshape(\u001b[96mtuple\u001b[39;49;00m(Z_shape))\u001b[90m\u001b[39;49;00m\n",
            "        \u001b[94melse\u001b[39;49;00m:\u001b[90m\u001b[39;49;00m\n",
            "            Z_max_reshaped = Z_max.reshape(\u001b[96mtuple\u001b[39;49;00m([\u001b[94m1\u001b[39;49;00m \u001b[94mfor\u001b[39;49;00m _ \u001b[95min\u001b[39;49;00m Z_shape]))\u001b[90m\u001b[39;49;00m\n",
            "        Z_normalized = Z - Z_max_reshaped.broadcast_to(Z.shape)\u001b[90m\u001b[39;49;00m\n",
            ">       \u001b[94mreturn\u001b[39;49;00m array_api.log(array_api.summation( array_api.exp(Z_normalized), axis = \u001b[96mself\u001b[39;49;00m.axes )) + Z_max\u001b[90m\u001b[39;49;00m\n",
            "\u001b[1m\u001b[31mE       AttributeError: module 'needle.backend_ndarray' has no attribute 'summation'\u001b[0m\n",
            "\n",
            "Z          = NDArray([[[ 0.3302983  -0.340832  ]\n",
            "  [ 0.61795366 -0.5573774 ]\n",
            "  [ 0.98945314  0.10835913]]\n",
            "\n",
            " [[ 1.0003321   1.374513...643  1.8128349 ]]\n",
            "\n",
            " [[-0.39105508  1.7389957 ]\n",
            "  [-0.1451655  -1.9387268 ]\n",
            "  [-0.3850593  -1.0773765 ]]], device=cpu())\n",
            "Z_max      = NDArray([[ 0.98945314  0.10835913]\n",
            " [ 1.0003321   1.3745133 ]\n",
            " [ 1.6284205   0.3118739 ]\n",
            " [ 1.8421578  -0.02927283]\n",
            " [ 1.729777    0.67215323]\n",
            " [ 0.17075484  1.9939206 ]\n",
            " [ 0.6868614   1.8128349 ]\n",
            " [-0.1451655   1.7389957 ]], device=cpu())\n",
            "Z_max_reshaped = NDArray([[[ 0.98945314  0.10835913]]\n",
            "\n",
            " [[ 1.0003321   1.3745133 ]]\n",
            "\n",
            " [[ 1.6284205   0.3118739 ]]\n",
            "\n",
            " [[ 1.8421578  -0.02... 0.67215323]]\n",
            "\n",
            " [[ 0.17075484  1.9939206 ]]\n",
            "\n",
            " [[ 0.6868614   1.8128349 ]]\n",
            "\n",
            " [[-0.1451655   1.7389957 ]]], device=cpu())\n",
            "Z_normalized = NDArray([[[-0.65915483 -0.44919112]\n",
            "  [-0.37149948 -0.66573656]\n",
            "  [ 0.          0.        ]]\n",
            "\n",
            " [[ 0.          0.      ...79   0.        ]]\n",
            "\n",
            " [[-0.24588957  0.        ]\n",
            "  [ 0.         -3.6777225 ]\n",
            "  [-0.2398938  -2.8163722 ]]], device=cpu())\n",
            "Z_shape    = [8, 1, 2]\n",
            "axis       = 1\n",
            "self       = <needle.ops.ops_logarithmic.LogSumExp object at 0x785f5449c730>\n",
            "\n",
            "\u001b[1m\u001b[31mpython/needle/ops/ops_logarithmic.py\u001b[0m:55: AttributeError\n",
            "\u001b[31m\u001b[1m___________________________________ test_logsumexp[cpu-shape3-2] ___________________________________\u001b[0m\n",
            "\n",
            "shape = (8, 3, 2), axes = 2, device = cpu()\n",
            "\n",
            "    \u001b[0m\u001b[37m@pytest\u001b[39;49;00m.mark.parametrize(\u001b[33m\"\u001b[39;49;00m\u001b[33mshape, axes\u001b[39;49;00m\u001b[33m\"\u001b[39;49;00m, SUMMATION_PARAMETERS)\u001b[90m\u001b[39;49;00m\n",
            "    \u001b[37m@pytest\u001b[39;49;00m.mark.parametrize(\u001b[33m\"\u001b[39;49;00m\u001b[33mdevice\u001b[39;49;00m\u001b[33m\"\u001b[39;49;00m, _DEVICES, ids=[\u001b[33m\"\u001b[39;49;00m\u001b[33mcpu\u001b[39;49;00m\u001b[33m\"\u001b[39;49;00m, \u001b[33m\"\u001b[39;49;00m\u001b[33mcuda\u001b[39;49;00m\u001b[33m\"\u001b[39;49;00m])\u001b[90m\u001b[39;49;00m\n",
            "    \u001b[94mdef\u001b[39;49;00m \u001b[92mtest_logsumexp\u001b[39;49;00m(shape, axes, device):\u001b[90m\u001b[39;49;00m\n",
            "        _A = np.random.randn(*shape).astype(np.float32)\u001b[90m\u001b[39;49;00m\n",
            "        A = ndl.Tensor(nd.array(_A), device=device)\u001b[90m\u001b[39;49;00m\n",
            "        A_t = torch.Tensor(_A)\u001b[90m\u001b[39;49;00m\n",
            "        \u001b[94mif\u001b[39;49;00m axes \u001b[95mis\u001b[39;49;00m \u001b[94mNone\u001b[39;49;00m:\u001b[90m\u001b[39;49;00m\n",
            "            t_axes = \u001b[96mtuple\u001b[39;49;00m(\u001b[96mlist\u001b[39;49;00m(\u001b[96mrange\u001b[39;49;00m(\u001b[96mlen\u001b[39;49;00m(shape))))\u001b[90m\u001b[39;49;00m\n",
            "        \u001b[94melse\u001b[39;49;00m:\u001b[90m\u001b[39;49;00m\n",
            "            t_axes = axes\u001b[90m\u001b[39;49;00m\n",
            ">       np.testing.assert_allclose(torch.logsumexp(A_t, dim=t_axes).numpy(), ndl.logsumexp(A, axes=axes).numpy(), atol=\u001b[94m1e-5\u001b[39;49;00m, rtol=\u001b[94m1e-5\u001b[39;49;00m)\u001b[90m\u001b[39;49;00m\n",
            "\n",
            "A          = needle.Tensor([[[-0.3582824   1.2597693 ]\n",
            "  [-1.0431324  -1.0910558 ]\n",
            "  [-0.58738524 -1.1948036 ]]\n",
            "\n",
            " [[ 0.4577148  -1.... ]\n",
            "  [-0.62239337  1.524059  ]]\n",
            "\n",
            " [[-1.6744863   1.1182188 ]\n",
            "  [-2.7329693  -0.0318884 ]\n",
            "  [-1.2050631  -0.48431998]]])\n",
            "A_t        = tensor([[[-0.3583,  1.2598],\n",
            "         [-1.0431, -1.0911],\n",
            "         [-0.5874, -1.1948]],\n",
            "\n",
            "        [[ 0.4577, -1.1173],\n",
            "...         [-0.6224,  1.5241]],\n",
            "\n",
            "        [[-1.6745,  1.1182],\n",
            "         [-2.7330, -0.0319],\n",
            "         [-1.2051, -0.4843]]])\n",
            "_A         = array([[[-0.3582824 ,  1.2597693 ],\n",
            "        [-1.0431324 , -1.0910558 ],\n",
            "        [-0.58738524, -1.1948036 ]],\n",
            "\n",
            "       [...  [[-1.6744863 ,  1.1182188 ],\n",
            "        [-2.7329693 , -0.0318884 ],\n",
            "        [-1.2050631 , -0.48431998]]], dtype=float32)\n",
            "axes       = 2\n",
            "device     = cpu()\n",
            "shape      = (8, 3, 2)\n",
            "t_axes     = 2\n",
            "\n",
            "\u001b[1m\u001b[31mtests/hw4/test_nd_backend.py\u001b[0m:239: \n",
            "_ _ _ _ _ _ _ _ _ _ _ _ _ _ _ _ _ _ _ _ _ _ _ _ _ _ _ _ _ _ _ _ _ _ _ _ _ _ _ _ _ _ _ _ _ _ _ _ _ _ \n",
            "\u001b[1m\u001b[31mpython/needle/ops/ops_logarithmic.py\u001b[0m:82: in logsumexp\n",
            "    \u001b[0m\u001b[94mreturn\u001b[39;49;00m LogSumExp(axes=axes)(a)\u001b[90m\u001b[39;49;00m\n",
            "        a          = needle.Tensor([[[-0.3582824   1.2597693 ]\n",
            "  [-1.0431324  -1.0910558 ]\n",
            "  [-0.58738524 -1.1948036 ]]\n",
            "\n",
            " [[ 0.4577148  -1.... ]\n",
            "  [-0.62239337  1.524059  ]]\n",
            "\n",
            " [[-1.6744863   1.1182188 ]\n",
            "  [-2.7329693  -0.0318884 ]\n",
            "  [-1.2050631  -0.48431998]]])\n",
            "        axes       = 2\n",
            "\u001b[1m\u001b[31mpython/needle/autograd.py\u001b[0m:80: in __call__\n",
            "    \u001b[0m\u001b[94mreturn\u001b[39;49;00m Tensor.make_from_op(\u001b[96mself\u001b[39;49;00m, args)\u001b[90m\u001b[39;49;00m\n",
            "        args       = (needle.Tensor([[[-0.3582824   1.2597693 ]\n",
            "  [-1.0431324  -1.0910558 ]\n",
            "  [-0.58738524 -1.1948036 ]]\n",
            "\n",
            " [[ 0.4577148  -1...\n",
            "  [-0.62239337  1.524059  ]]\n",
            "\n",
            " [[-1.6744863   1.1182188 ]\n",
            "  [-2.7329693  -0.0318884 ]\n",
            "  [-1.2050631  -0.48431998]]]),)\n",
            "        self       = <needle.ops.ops_logarithmic.LogSumExp object at 0x785f547e1f30>\n",
            "\u001b[1m\u001b[31mpython/needle/autograd.py\u001b[0m:242: in make_from_op\n",
            "    \u001b[0mtensor.realize_cached_data()\u001b[90m\u001b[39;49;00m\n",
            "        inputs     = (needle.Tensor([[[-0.3582824   1.2597693 ]\n",
            "  [-1.0431324  -1.0910558 ]\n",
            "  [-0.58738524 -1.1948036 ]]\n",
            "\n",
            " [[ 0.4577148  -1...\n",
            "  [-0.62239337  1.524059  ]]\n",
            "\n",
            " [[-1.6744863   1.1182188 ]\n",
            "  [-2.7329693  -0.0318884 ]\n",
            "  [-1.2050631  -0.48431998]]]),)\n",
            "        op         = <needle.ops.ops_logarithmic.LogSumExp object at 0x785f547e1f30>\n",
            "        tensor     = <[AttributeError(\"module 'needle.backend_ndarray' has no attribute 'summation'\") raised in repr()] Tensor object at 0x785f547e1ba0>\n",
            "\u001b[1m\u001b[31mpython/needle/autograd.py\u001b[0m:107: in realize_cached_data\n",
            "    \u001b[0m\u001b[96mself\u001b[39;49;00m.cached_data = \u001b[96mself\u001b[39;49;00m.op.compute(\u001b[90m\u001b[39;49;00m\n",
            "        self       = <[AttributeError(\"module 'needle.backend_ndarray' has no attribute 'summation'\") raised in repr()] Tensor object at 0x785f547e1ba0>\n",
            "_ _ _ _ _ _ _ _ _ _ _ _ _ _ _ _ _ _ _ _ _ _ _ _ _ _ _ _ _ _ _ _ _ _ _ _ _ _ _ _ _ _ _ _ _ _ _ _ _ _ \n",
            "\n",
            "self = <needle.ops.ops_logarithmic.LogSumExp object at 0x785f547e1f30>\n",
            "Z = NDArray([[[-0.3582824   1.2597693 ]\n",
            "  [-1.0431324  -1.0910558 ]\n",
            "  [-0.58738524 -1.1948036 ]]\n",
            "\n",
            " [[ 0.4577148  -1.117253...337  1.524059  ]]\n",
            "\n",
            " [[-1.6744863   1.1182188 ]\n",
            "  [-2.7329693  -0.0318884 ]\n",
            "  [-1.2050631  -0.48431998]]], device=cpu())\n",
            "\n",
            "    \u001b[0m\u001b[94mdef\u001b[39;49;00m \u001b[92mcompute\u001b[39;49;00m(\u001b[96mself\u001b[39;49;00m, Z):\u001b[90m\u001b[39;49;00m\n",
            "        \u001b[90m### BEGIN YOUR SOLUTION\u001b[39;49;00m\u001b[90m\u001b[39;49;00m\n",
            "        Z_max = Z.max(axis=\u001b[96mself\u001b[39;49;00m.axes)\u001b[90m\u001b[39;49;00m\n",
            "        Z_shape = \u001b[96mlist\u001b[39;49;00m(Z.shape)\u001b[90m\u001b[39;49;00m\n",
            "        \u001b[94mif\u001b[39;49;00m \u001b[96mself\u001b[39;49;00m.axes \u001b[95mis\u001b[39;49;00m \u001b[95mnot\u001b[39;49;00m \u001b[94mNone\u001b[39;49;00m:\u001b[90m\u001b[39;49;00m\n",
            "            \u001b[94mfor\u001b[39;49;00m axis \u001b[95min\u001b[39;49;00m \u001b[96mself\u001b[39;49;00m.axes:\u001b[90m\u001b[39;49;00m\n",
            "                Z_shape[axis] = \u001b[94m1\u001b[39;49;00m\u001b[90m\u001b[39;49;00m\n",
            "            Z_max_reshaped = Z_max.reshape(\u001b[96mtuple\u001b[39;49;00m(Z_shape))\u001b[90m\u001b[39;49;00m\n",
            "        \u001b[94melse\u001b[39;49;00m:\u001b[90m\u001b[39;49;00m\n",
            "            Z_max_reshaped = Z_max.reshape(\u001b[96mtuple\u001b[39;49;00m([\u001b[94m1\u001b[39;49;00m \u001b[94mfor\u001b[39;49;00m _ \u001b[95min\u001b[39;49;00m Z_shape]))\u001b[90m\u001b[39;49;00m\n",
            "        Z_normalized = Z - Z_max_reshaped.broadcast_to(Z.shape)\u001b[90m\u001b[39;49;00m\n",
            ">       \u001b[94mreturn\u001b[39;49;00m array_api.log(array_api.summation( array_api.exp(Z_normalized), axis = \u001b[96mself\u001b[39;49;00m.axes )) + Z_max\u001b[90m\u001b[39;49;00m\n",
            "\u001b[1m\u001b[31mE       AttributeError: module 'needle.backend_ndarray' has no attribute 'summation'\u001b[0m\n",
            "\n",
            "Z          = NDArray([[[-0.3582824   1.2597693 ]\n",
            "  [-1.0431324  -1.0910558 ]\n",
            "  [-0.58738524 -1.1948036 ]]\n",
            "\n",
            " [[ 0.4577148  -1.117253...337  1.524059  ]]\n",
            "\n",
            " [[-1.6744863   1.1182188 ]\n",
            "  [-2.7329693  -0.0318884 ]\n",
            "  [-1.2050631  -0.48431998]]], device=cpu())\n",
            "Z_max      = NDArray([[ 1.2597693  -1.0431324  -0.58738524]\n",
            " [ 0.4577148  -0.3178535   2.470455  ]\n",
            " [-0.01162885 -0.25106454 -1.460...  0.6993003  -1.087193  ]\n",
            " [-0.7022692   0.0179536   1.524059  ]\n",
            " [ 1.1182188  -0.0318884  -0.48431998]], device=cpu())\n",
            "Z_max_reshaped = NDArray([[[ 1.2597693 ]\n",
            "  [-1.0431324 ]\n",
            "  [-0.58738524]]\n",
            "\n",
            " [[ 0.4577148 ]\n",
            "  [-0.3178535 ]\n",
            "  [ 2.470455  ]]\n",
            "\n",
            " [[-0.0116... ]]\n",
            "\n",
            " [[-0.7022692 ]\n",
            "  [ 0.0179536 ]\n",
            "  [ 1.524059  ]]\n",
            "\n",
            " [[ 1.1182188 ]\n",
            "  [-0.0318884 ]\n",
            "  [-0.48431998]]], device=cpu())\n",
            "Z_normalized = NDArray([[[-1.6180518   0.        ]\n",
            "  [ 0.         -0.04792333]\n",
            "  [ 0.         -0.60741836]]\n",
            "\n",
            " [[ 0.         -1.574968...24   0.        ]]\n",
            "\n",
            " [[-2.792705    0.        ]\n",
            "  [-2.7010808   0.        ]\n",
            "  [-0.7207431   0.        ]]], device=cpu())\n",
            "Z_shape    = [8, 3, 1]\n",
            "axis       = 2\n",
            "self       = <needle.ops.ops_logarithmic.LogSumExp object at 0x785f547e1f30>\n",
            "\n",
            "\u001b[1m\u001b[31mpython/needle/ops/ops_logarithmic.py\u001b[0m:55: AttributeError\n",
            "\u001b[36m\u001b[1m===================================== short test summary info ======================================\u001b[0m\n",
            "\u001b[31mFAILED\u001b[0m tests/hw4/test_nd_backend.py::\u001b[1mtest_stack_backward[cpu-shape0-0-1]\u001b[0m - NotImplementedError\n",
            "\u001b[31mFAILED\u001b[0m tests/hw4/test_nd_backend.py::\u001b[1mtest_stack_backward[cpu-shape1-0-2]\u001b[0m - NotImplementedError\n",
            "\u001b[31mFAILED\u001b[0m tests/hw4/test_nd_backend.py::\u001b[1mtest_stack_backward[cpu-shape2-2-5]\u001b[0m - NotImplementedError\n",
            "\u001b[31mFAILED\u001b[0m tests/hw4/test_nd_backend.py::\u001b[1mtest_logsumexp[cpu-shape0-None]\u001b[0m - AttributeError: module 'needle.backend_ndarray' has no attribute 'summation'\n",
            "\u001b[31mFAILED\u001b[0m tests/hw4/test_nd_backend.py::\u001b[1mtest_logsumexp[cpu-shape1-0]\u001b[0m - AttributeError: module 'needle.backend_ndarray' has no attribute 'summation'\n",
            "\u001b[31mFAILED\u001b[0m tests/hw4/test_nd_backend.py::\u001b[1mtest_logsumexp[cpu-shape2-1]\u001b[0m - AttributeError: module 'needle.backend_ndarray' has no attribute 'summation'\n",
            "\u001b[31mFAILED\u001b[0m tests/hw4/test_nd_backend.py::\u001b[1mtest_logsumexp[cpu-shape3-2]\u001b[0m - AttributeError: module 'needle.backend_ndarray' has no attribute 'summation'\n",
            "\u001b[31m==================== \u001b[31m\u001b[1m7 failed\u001b[0m, \u001b[32m52 passed\u001b[0m, \u001b[33m59 skipped\u001b[0m, \u001b[33m1685 deselected\u001b[0m\u001b[31m in 3.94s\u001b[0m\u001b[31m =====================\u001b[0m\n"
          ]
        }
      ],
      "source": [
        "!python3 -m pytest -l -v -k \"nd_backend\""
      ]
    },
    {
      "cell_type": "code",
      "execution_count": null,
      "metadata": {
        "id": "kUf-d6OOHwpc"
      },
      "outputs": [],
      "source": [
        "!python3 -m mugrade submit \"YOUR KEY HERE\" -k \"new_nd_backend\""
      ]
    },
    {
      "cell_type": "markdown",
      "metadata": {
        "id": "P-kGXVA2Hwpc"
      },
      "source": [
        "## Part 2: CIFAR-10 dataset [10 points]\n",
        "\n",
        "Next, you will write support for the [CIFAR-10](https://www.cs.toronto.edu/~kriz/cifar.html) image classification dataset, which consists of 60,000 32x32 color images in 10 classes, with 6,000 images per class. There are 50k training images and 10k test images.\n",
        "\n",
        "Start by implementing the `__init__` function in the `CIFAR10Dataset` class in `python/needle/data/datasets/cifar10_dataset.py`. You can read in the link above how to properly read the CIFAR-10 dataset files you downloaded at the beginning of the homework. Also fill in `__getitem__` and `__len__`. Note that the return shape of the data from `__getitem__` should be in order (3, 32, 32).\n",
        "\n",
        "Copy `python/needle/data/data_transforms.py` and `python/needle/data/data_basic.py` from previous homeworks."
      ]
    },
    {
      "cell_type": "code",
      "execution_count": null,
      "metadata": {
        "id": "WpuntwdWHwpc"
      },
      "outputs": [],
      "source": [
        "!python3 -m pytest -l -v -k \"test_cifar10\""
      ]
    },
    {
      "cell_type": "code",
      "execution_count": null,
      "metadata": {
        "id": "23Cqz4DiHwpc"
      },
      "outputs": [],
      "source": [
        "!python3 -m mugrade submit \"YOUR KEY HERE\" -k \"cifar10\""
      ]
    },
    {
      "cell_type": "markdown",
      "metadata": {
        "tags": [],
        "id": "9BtgpGiZHwpc"
      },
      "source": [
        "## Part 3: Convolutional neural network [40 points]\n",
        "\n",
        "Here's an outline of what you will do in this task.\n",
        "\n",
        "In `python/needle/backend_ndarray/ndarray.py`, implement:\n",
        "- `flip`\n",
        "- `pad`\n",
        "\n",
        "In `python/needle/ops_mathematic.py`, implement (forward and backward):\n",
        "- `Flip`\n",
        "- `Dilate`\n",
        "- `UnDilate`\n",
        "- `Conv`\n",
        "\n",
        "In `python/needle/nn/nn_conv.py`, implement:\n",
        "- `Conv`\n",
        "\n",
        "In `apps/models.py`, fill in the `ResNet9` class.  \n",
        "\n",
        "In `apps/simple_ml.py`, fill in:\n",
        "- `epoch_general_cifar10`,\n",
        "- `train_cifar10`\n",
        "- `evaluate_cifar10`\n",
        "\n",
        "We have provided a `BatchNorm2d` implementation in `python/needle/nn/nn_basic.py` for you as a wrapper around your previous `BatchNorm1d` implementation.\n",
        "\n",
        "**Note**: Remember to copy the solution of `nn_basic.py` from previous homework, make sure to not overwrite the `BatchNorm2d` module."
      ]
    },
    {
      "cell_type": "markdown",
      "metadata": {
        "id": "PsNz7kunHwpc"
      },
      "source": [
        "### Padding ndarrays\n",
        "\n",
        "Convolution as typically implemented in deep learning libraries cuts down the size of inputs;\n",
        "e.g., a (1, 32, 32, 3) image convolved with a 3x3 filter would give a (1, 30, 30, c) output.\n",
        "A way around this is to pad the input ndarray before performing convolution, e.g., pad with zeros to get a (1, 34, 34, 3) ndarray so that the result is (1, 32, 32, 3).\n",
        "\n",
        "Padding is also required for the backward pass of convolution.\n",
        "\n",
        "You should implement `pad` in `ndarray.py` to closely reflect the behavior of `np.pad`.\n",
        "That is, `pad` should take a tuple of 2-tuples with length equal to the number of dimensions of the array,\n",
        "where each element in the 2-tuple corresponds to \"left padding\" and \"right padding\", respectively.\n",
        "\n",
        "For example, if `A` is a (10, 32, 32, 8) ndarray (think NHWC), then `A.pad( (0, 0), (2, 2), (2, 2), (0, 0) )` would be a (10, 36, 36, 8) ndarray where the \"spatial\" dimension has been padded by two zeros on all sides."
      ]
    },
    {
      "cell_type": "code",
      "execution_count": null,
      "metadata": {
        "id": "yopMxwegHwpc"
      },
      "outputs": [],
      "source": [
        "!python3 -m pytest -l -v -k \"pad_forward\""
      ]
    },
    {
      "cell_type": "markdown",
      "metadata": {
        "id": "O9gQk6HHHwpc"
      },
      "source": [
        "-------------------------------------"
      ]
    },
    {
      "cell_type": "markdown",
      "metadata": {
        "id": "6rNKULMUHwpc"
      },
      "source": [
        "### Flipping ndarrays & FlipOp"
      ]
    },
    {
      "cell_type": "code",
      "execution_count": null,
      "metadata": {
        "id": "-JlHRhzaHwpc"
      },
      "outputs": [],
      "source": [
        "import numpy as np\n",
        "import ctypes"
      ]
    },
    {
      "cell_type": "markdown",
      "metadata": {
        "id": "2vy829KaHwpc"
      },
      "source": [
        "Some utility code for a demonstration below which you can probably ignore. It might be instructive to check out the `offset` function."
      ]
    },
    {
      "cell_type": "code",
      "execution_count": null,
      "metadata": {
        "id": "i_2q3KQJHwpc"
      },
      "outputs": [],
      "source": [
        "# reads off the underlying data array in order (i.e., offset 0, offset 1, ..., offset n)\n",
        "# i.e., ignoring strides\n",
        "def raw_data(X):\n",
        "    X = np.array(X) # copy, thus compact X\n",
        "    return np.frombuffer(ctypes.string_at(X.ctypes.data, X.nbytes), dtype=X.dtype, count=X.size)\n",
        "\n",
        "# Xold and Xnew should reference the same underlying data\n",
        "def offset(Xold, Xnew):\n",
        "    assert Xold.itemsize == Xnew.itemsize\n",
        "    # compare addresses to the beginning of the arrays\n",
        "    return (Xnew.ctypes.data - Xold.ctypes.data)//Xnew.itemsize\n",
        "\n",
        "def strides(X):\n",
        "    return ', '.join([str(x//X.itemsize) for x in X.strides])\n",
        "\n",
        "def format_array(X, shape):\n",
        "    assert len(shape) == 3, \"I only made this formatting work for ndims = 3\"\n",
        "    def chunks(l, n):\n",
        "        n = max(1, n)\n",
        "        return (l[i:i+n] for i in range(0, len(l), n))\n",
        "    a = [str(x) if x >= 10 else ' ' + str(x) for x in X]\n",
        "    a = ['(' + ' '.join(y) + ')' for y in [x for x in chunks(a, shape[-1])]]\n",
        "    a = ['|' + ' '.join(y) + '|' for y in [x for x in chunks(a, shape[-2])]]\n",
        "    return '  '.join(a)\n",
        "\n",
        "def inspect_array(X, *, is_a_copy_of):\n",
        "    # compacts X, then reads it off in order\n",
        "    print('Data: %s' % format_array(raw_data(X), X.shape))\n",
        "    # compares address of X to copy_of, thus finding X's offset\n",
        "    print('Offset: %s' % offset(is_a_copy_of, X))\n",
        "    print('Strides: %s' % strides(X))"
      ]
    },
    {
      "cell_type": "markdown",
      "metadata": {
        "tags": [],
        "id": "VYUJmY0NHwpc"
      },
      "source": [
        "In order to implement the backwards pass of 2D convolution, we will (probably) need a function which _flips_\n",
        "axes of ndarrays. We say \"probably\" because you could probably cleverly implement your convolution forward\n",
        "function to avoid this. However, we think it is easiest to think about this if you have the ability to \"flip\" the kernel along its vertical and horizontal dimensions.\n",
        "\n",
        "We will try to build up your intuition for the \"flip\" operation below in order to help you figure out how to implement it in `ndarray.py`. To do that, we explore numpy's `np.flip` function below. One thing to note is that\n",
        "`flip` is typically implemented by using negative strides and changing the _offset_ of the underlying array.\n",
        "\n",
        "For example, flipping an array on _all_ of its axes is equivalent to reversing the array. In this case, you can imagine that we would want all the strides to be negative, and the offset to be the length of the array (to start at the end of the array and \"stride\" backwards).\n",
        "\n",
        "Since we did not explicitly support negative strides in our implementation for the last homework, we will merely call `NDArray.make` with them to make our \"flipped\" array and then immediately call `.compact()`. Other than changing unsigned ints to signed ints in a few places, we suspect your existing `compact` function should not have to change at all to accomodate negative strides. In the .cc and .cu files we distributed, we have already changed the function signatures to reflect this.\n",
        "\n",
        "Alternatively, you could simply implement `flip` in the CPU backend by copying memory, which you _may_ find more intuitive. We suggest following our mini tutorial below to keep your implementation Python-focused, since we believe it is involves approximately the same amount of effort to implement it slightly more naively in C."
      ]
    },
    {
      "cell_type": "markdown",
      "metadata": {
        "id": "S_lgw3YUHwpc"
      },
      "source": [
        "Use this array as reference for the other examples:"
      ]
    },
    {
      "cell_type": "code",
      "execution_count": null,
      "metadata": {
        "id": "JoxMwWDlHwpd"
      },
      "outputs": [],
      "source": [
        "A = np.arange(1, 25).reshape(3, 2, 4)\n",
        "inspect_array(A, is_a_copy_of=A)"
      ]
    },
    {
      "cell_type": "markdown",
      "metadata": {
        "id": "g7eF5sGWHwpd"
      },
      "source": [
        "We have put brackets around each axis of the array. Notice that for this array, the offset is 0 and the strides are all positive."
      ]
    },
    {
      "cell_type": "markdown",
      "metadata": {
        "id": "ke15CO7vHwpd"
      },
      "source": [
        "----------------------------------------------------------"
      ]
    },
    {
      "cell_type": "markdown",
      "metadata": {
        "id": "dtUaZ632Hwpd"
      },
      "source": [
        "See what happens when you flip the array along the last axis below.\n",
        "Note that the `inspect_array` function compacts the array after flipping it so you can see the\n",
        "\"logical\" order of the data, and the offset is calculated by comparing the address of the **non**-compacted\n",
        "flipped array with that of `is_copy_of`, i.e., the array `A` we looked at above.\n",
        "\n",
        "That is, we are looking at how numpy calculates the strides and offset for flipped arrays in order\n",
        "to copy this behavior in our own implementation."
      ]
    },
    {
      "cell_type": "code",
      "execution_count": null,
      "metadata": {
        "id": "TWp_IUDXHwpd"
      },
      "outputs": [],
      "source": [
        "inspect_array(np.flip(A, (2,)), is_a_copy_of=A)"
      ]
    },
    {
      "cell_type": "markdown",
      "metadata": {
        "id": "3_6nNn1IHwpd"
      },
      "source": [
        "So flipping the last axis reverses the order of the elements within each 4-dimensional \"cell\", as you can see above. The stride corresponding to the axis we flipped has been negated. And the offset is 3 -- this makes sense, e.g., because we want the new \"first\" element of the array to be 4, which was at index 3 in `A`."
      ]
    },
    {
      "cell_type": "code",
      "execution_count": null,
      "metadata": {
        "id": "T_XlgmV_Hwpd"
      },
      "outputs": [],
      "source": [
        "inspect_array(np.flip(A, (1,)), is_a_copy_of=A)"
      ]
    },
    {
      "cell_type": "markdown",
      "metadata": {
        "id": "FYE9kbGLHwpd"
      },
      "source": [
        "Again for the middle axis: we negate the middle stride, and the offset is 4, which seems reasonable since we now want the first element to be 5, which was at index 4 in the original array `A`."
      ]
    },
    {
      "cell_type": "code",
      "execution_count": null,
      "metadata": {
        "id": "HTdiZxexHwpd"
      },
      "outputs": [],
      "source": [
        "inspect_array(np.flip(A, (0,)), is_a_copy_of=A)"
      ]
    },
    {
      "cell_type": "markdown",
      "metadata": {
        "id": "vkBHCzETHwpd"
      },
      "source": [
        "Try to infer the more general algorithm for computing the offset given the axis to flip."
      ]
    },
    {
      "cell_type": "markdown",
      "metadata": {
        "id": "oasmWSInHwpd"
      },
      "source": [
        "----------------------------------------------------------------------------------------------------------"
      ]
    },
    {
      "cell_type": "markdown",
      "metadata": {
        "id": "0t8jbFmbHwpd"
      },
      "source": [
        "Observe what happens when we flip _all_ axes."
      ]
    },
    {
      "cell_type": "code",
      "execution_count": null,
      "metadata": {
        "id": "JsHjWkIrHwpd"
      },
      "outputs": [],
      "source": [
        "inspect_array(np.flip(A, (0, 1, 2)), is_a_copy_of=A)"
      ]
    },
    {
      "cell_type": "markdown",
      "metadata": {
        "id": "Hw6vLy7jHwpd"
      },
      "source": [
        "As mentioned earlier, the offset is then sufficient to point to the last element of the array, and this is just the \"reverse order\" version of `A`."
      ]
    },
    {
      "cell_type": "markdown",
      "metadata": {
        "id": "t8g38DN_Hwpd"
      },
      "source": [
        "When we flip just axes 1 and 0..."
      ]
    },
    {
      "cell_type": "code",
      "execution_count": null,
      "metadata": {
        "id": "UsxZ9_pJHwpd"
      },
      "outputs": [],
      "source": [
        "inspect_array(np.flip(A, (0, 1)), is_a_copy_of=A)"
      ]
    },
    {
      "cell_type": "markdown",
      "metadata": {
        "id": "_e4d4abKHwpn"
      },
      "source": [
        "The offset is 20. Looking back on our previous offset computations, do you notice something?"
      ]
    },
    {
      "cell_type": "markdown",
      "metadata": {
        "id": "RKg_ztzfHwpn"
      },
      "source": [
        "-------------------\n",
        "\n",
        "With this exploration of numpy's ndarray flipping functionality, which uses negative strides and a custom offset,\n",
        "try to implement `flip` in `ndarray.py`. You also must implement \"flip\" forward and backward functions in `ops_mathematic.py`; note that these should be extremely short.\n",
        "\n",
        "**Important:** You should call NDArray.make with the new strides and offset, and then immediately `.compact()` this array. The resulting array is then copied and has positive strides. We want this (less-than-optimal) behavior because we did not account for negative strides in our previous implementation. _Aside:_ If you want, consider where/if negative strides break your implementation. `__getitem__` definitely doesn't work due to how we processed slices; is there anything else? (_Note_: this isn't graded.)\n",
        "\n",
        "Also, if you want to add a `flip` operator implementation on the CPU/CUDA backends instead, that's also okay.\n",
        "\n"
      ]
    },
    {
      "cell_type": "code",
      "execution_count": null,
      "metadata": {
        "id": "F_JXcTPCHwpn"
      },
      "outputs": [],
      "source": [
        "!python3 -m pytest -l -v -k \"flip\""
      ]
    },
    {
      "cell_type": "markdown",
      "metadata": {
        "id": "bV09yCNcHwpn"
      },
      "source": [
        "-------------------------------------"
      ]
    },
    {
      "cell_type": "markdown",
      "metadata": {
        "id": "G4mZiPz9Hwpn"
      },
      "source": [
        "### Dilation\n"
      ]
    },
    {
      "cell_type": "markdown",
      "metadata": {
        "id": "2LA-mQt8Hwpn"
      },
      "source": [
        "The dilation operator puts zeros between elements of an ndarray. We will need it for computing the backward pass of convolution when the stride of the convolution is greater than 1. As an example, dilation should do the following to a 2x2 matrix when dilated by 1 on both axes:\n",
        "\n",
        "$$\n",
        "\\begin{bmatrix}\n",
        "1 & 2 \\\\\n",
        "3 & 4\n",
        "\\end{bmatrix}\n",
        "\\Longrightarrow\n",
        "\\begin{bmatrix}\n",
        "1 & 0 & 2 & 0 \\\\\n",
        "0 & 0 & 0 & 0 \\\\\n",
        "3 & 0 & 4 & 0 \\\\\n",
        "0 & 0 & 0 & 0\n",
        "\\end{bmatrix}\n",
        "$$\n",
        "\n",
        "To get some intuition for why we need dilation for the backward pass of strided convolution, consider a  `stride=2`, `padding=\"same\"`, `input_channels=output_channels=8` convolution applied to an input of size (10, 32, 32, 8). The resulting output will be of size (10, 16, 16, 8) due to the stride, and thus `out_grad` will have shape (10, 16, 16, 8). Yet, the gradient of the input needs to, of course, have shape (10, 32, 32, 8) -- so we must need to increase the size of `out_grad` in some way. Consider also that you could implement strided convolution as `Conv(x)[:, ::2, ::2, :]`, i.e., only keeping every other pixel in the spatial dimension.\n",
        "\n",
        "\n",
        "Implement `Dilate` and `UnDilate` in `ops_mathematic.py`. Each operator takes two additional parameters (in attrs): the `dilation` amount and the `axes` to dilate. You must also implement the corresponding op `UnDilate`, whose forward pass will be used to implement the gradient of `Dilate`. (This is so we do not have to implement `GetItem` and `SetItem` ops, which can be highly inefficient to backprop through without additional optimizations.)\n",
        "\n",
        "**Note**: The dilation amount is additive, not multiplicative. In the example above, a dilation of `1` implies adding one row/column of zeros between each element along each dilated axis (and one removed row/column for each undilated axis). A dilation of `0` means no change."
      ]
    },
    {
      "cell_type": "code",
      "execution_count": null,
      "metadata": {
        "id": "_aaIBbQ7Hwpn"
      },
      "outputs": [],
      "source": [
        "!python3 -m pytest -l -v -k \"dilate\""
      ]
    },
    {
      "cell_type": "markdown",
      "metadata": {
        "id": "-TsYwEpWHwpn"
      },
      "source": [
        "---------------------------------------"
      ]
    },
    {
      "cell_type": "markdown",
      "metadata": {
        "id": "skrn6-j2Hwpn"
      },
      "source": [
        "### Submit new ops (flip/dilation) to mugrade [10 points]"
      ]
    },
    {
      "cell_type": "code",
      "execution_count": null,
      "metadata": {
        "id": "i15Ix-OuHwpn"
      },
      "outputs": [],
      "source": [
        "!python3 -m mugrade submit \"YOUR KEY HERE\" -k \"new_ops\""
      ]
    },
    {
      "cell_type": "markdown",
      "metadata": {
        "id": "5Yw0X76_Hwpn"
      },
      "source": [
        "-----------------"
      ]
    },
    {
      "cell_type": "markdown",
      "metadata": {
        "id": "ycK4GA4yHwpn"
      },
      "source": [
        "### Convolution forward\n",
        "\n",
        "Implement the forward pass of 2D multi-channel convolution in `ops_mathematic.py`. You should probably refer to [this notebook](https://github.com/dlsyscourse/public_notebooks/blob/main/convolution_implementation.ipynb) from lecture, which implements 2D multi-channel convolution using im2col in numpy.\n",
        "\n",
        "**Note:** Your convolution op should accept tensors in the NHWC format, as in the example above, and weights in the format (kernel_size, kernel_size, input_channels, output_channels).\n",
        "\n",
        "However, you will need to add two additional features. Your convolution function should accept arguments for `padding` (default 0) and `stride` (default 1). For `padding`, you should simply apply your padding function to the spatial dimensions (i.e., axes 1 and 2).\n",
        "\n",
        "Implementing strided convolution should consist of a relatively small set of changes to your plain convolution implementation.\n",
        "\n",
        "We recommend working your way up through the full feature set: Implement convolution without stride first, ensuring you pass some of the tests below, and then add in support for stride."
      ]
    },
    {
      "cell_type": "code",
      "execution_count": null,
      "metadata": {
        "id": "_jlYnQKDHwpo"
      },
      "outputs": [],
      "source": [
        "!python3 -m pytest -l -v -k \"op_conv and forward\""
      ]
    },
    {
      "cell_type": "markdown",
      "metadata": {
        "id": "bMbp2L0zHwpo"
      },
      "source": [
        "-----------------"
      ]
    },
    {
      "cell_type": "markdown",
      "metadata": {
        "id": "EkUs74MNHwpo"
      },
      "source": [
        "### Convolution backward"
      ]
    },
    {
      "cell_type": "markdown",
      "metadata": {
        "id": "1D4PbJG4Hwpo"
      },
      "source": [
        "Finding the gradients of 2D multi-channel convolution can be technically quite challenging (especially \"rigorously\"). We will try to provide some useful hints here. Basically, we encourage you to make use of the surprising fact that _whatever makes the dimensions work out is typically right_.\n",
        "\n",
        "Ultimately, the backward pass of convolution can be done in terms of the convolution operator itself, with some clever manipulations using `flip`, `dilate`, and multiple applications of `transpose` to both the arguments and the results.\n",
        "\n",
        "In the last section, we essentially implemented convolution as a matrix product: ignoring the various restride and reshape operations, we basically have something like `X @ W`, where `X` is the input and `W` is the weight. We also have `out_grad`, which is the same shape as `X @ W`. Now, you have already implemented the backward pass of matrix multiplication in a previous assignment, and we can use this knowledge to get some insight into the backward pass of convolution. In particular, referencing your matmul backward implementation, you may notice (heuristically speaking here):\n",
        "\n",
        "`X.grad = out_grad @ W.transpose` \\\n",
        "`W.grad = X.transpose @ out_grad`\n",
        "\n",
        "Surprisingly enough, things work out if we just assume that these are also convolutions (and now assuming that `out_grad`, `W`, and `X` are tensors amenable to 2D multi-channel convolution instead of matrices):\n",
        "\n",
        "`X.grad = ≈conv(≈out_grad, ≈W)` \\\n",
        "`W.grad = ≈conv(≈X, ≈out_grad)`\n",
        "\n",
        "In which the \"≈\" indicates that you need to apply some additional operators to these terms in order to get the dimensions to work out, such as permuting/transposing axes, dilating, changing the `padding=` argument to the convolution function, or permuting/transposing axes of the resulting convolution.\n",
        "\n",
        "As we saw on the [last few slides here](https://dlsyscourse.org/slides/conv_nets.pdf) in class, the transpose of a convolution can be found by simply flipping the kernel. Since we're working in 2D instead of 1D, this means flipping the kernel both vertically and horizontally (thus why we implemented `flip`).\n",
        "\n",
        "Summarizing some hints for both `X.grad` and `W.grad`:\n",
        "\n",
        "`X.grad`\n",
        "- The convolution of `out_grad` and `W`, with some operations applied to those\n",
        "- `W` should be flipped over both the kernel dimensions\n",
        "- If the convolution is strided, increase the size of `out_grad` with a corresponding dilation\n",
        "- Do an example to analyze dimensions: note the shape you want for `X.grad`, and think about how you must permute/transpose the arguments and add padding to the convolution to achieve this shape\n",
        "    - This padding depends on both the kernel size and the `padding` argument to the convolution\n",
        "\n",
        "`W.grad`\n",
        "- The convolution of `X` and `out_grad`, with some operations applied to those\n",
        "- The gradients of `W` must be accumulated over the batches; how can you make the conv operator itself do this accumulation?\n",
        "    - Consider turning batches into channels via transpose/permute\n",
        "- Analyze dimensions: how can you modify `X` and `out_grad` so that the shape of their convolution matches the shape of `W`? You may need to transpose/permute the result.\n",
        "    - Remember to account for the `padding` argument passed to convolution\n",
        "\n",
        "General tips\n",
        "- Deal with strided convolutions last (you should be able to just drop in `dilate` when you've passed most of the tests)\n",
        "- Start with the case where `padding=0`, then consider changing `padding` arguments\n",
        "- You can \"permute\" axes with multiple calls to `transpose`\n",
        "\n",
        "It might also be useful to skip ahead to nn.Conv, pass the forward tests, and then use both the tests below and the nn.Conv backward tests to debug your implementation."
      ]
    },
    {
      "cell_type": "code",
      "execution_count": null,
      "metadata": {
        "id": "7I7UHni8Hwpo"
      },
      "outputs": [],
      "source": [
        "!python3 -m pytest -l -v -k \"op_conv and backward\""
      ]
    },
    {
      "cell_type": "markdown",
      "metadata": {
        "id": "-NfIyPX3Hwpo"
      },
      "source": [
        "-----------------"
      ]
    },
    {
      "cell_type": "markdown",
      "metadata": {
        "id": "skelPJaDHwpo"
      },
      "source": [
        "### nn.Conv"
      ]
    },
    {
      "cell_type": "markdown",
      "metadata": {
        "tags": [],
        "id": "Zv0Abx2oHwpo"
      },
      "source": [
        "#### Fixing init._calculate_fans for convolution\n",
        "Previously, we have implemented Kaiming uniform/normal initializations, where we essentially assigned `fan_in = input_size` and `fan_out = output_size`.\n",
        "For convolution, this becomes somewhat more detailed, in that you should multiply both of these by the \"receptive field size\", which is in this case just the product of the kernel sizes -- which in our case are always going to be the same, i.e., $k\\times k$ kernels.\n",
        "\n",
        "**You will need to edit your `kaiming_uniform` in `python/needle/init/init_initializers.py`, etc. init functions to support multidimensional arrays.** In particular, it should support a new `shape` argument which is then passed to, e.g., the underlying `rand` function. Specifically, if the argument `shape` is not `None`, then ignore `fan_in` and `fan_out`, and use the value of `shape` for initializations instead.\n",
        "\n",
        "You can test this below; though it is not _directly_ graded, it must match ours to pass the nn.Conv mugrade tests."
      ]
    },
    {
      "cell_type": "code",
      "execution_count": null,
      "metadata": {
        "id": "249uXGuAHwpo"
      },
      "outputs": [],
      "source": [
        "!python3 -m pytest -l -v -k \"kaiming_uniform\""
      ]
    },
    {
      "cell_type": "markdown",
      "metadata": {
        "id": "BQK_mDvyHwpo"
      },
      "source": [
        "#### Implementing nn.Conv\n",
        "\n",
        "Essentially, nn.Conv is just a wrapper of the convolution operator we previously implemented\n",
        "which adds a bias term, initializes the weight and bias, and ensures that the padding is set so that the input and output dimensions are the same (in the `stride=1` case, anyways).\n",
        "\n",
        "Importantly, nn.Conv should support NCHW format instead of NHWC format. In particular, we think this makes more sense given our current BatchNorm implementation. You can implement this by applying `transpose` twice to both the input and output.  \n",
        "\n",
        "- Ensure nn.Conv works for `(N, C, H, W)` tensors even though we implemented the conv op for `(N, H, W, C)` tensors\n",
        "- Initialize the `(k, k, i, o)` weight tensor using Kaiming uniform initialization with default settings\n",
        "- Initialize the `(o,)` bias tensor using uniform initialization on the interval $\\displaystyle\\pm\\frac{1}{\\sqrt{\\verb|in_channels| \\times \\verb|kernel_size|^2}}$\n",
        "- Calculate the appropriate padding to ensure input and output dimensions are the same\n",
        "- Calculate the convolution, then add the properly-broadcasted bias term if present\n",
        "\n",
        "You can now test your nn.Conv against PyTorch's nn.Conv2d with the two PyTest calls below."
      ]
    },
    {
      "cell_type": "code",
      "execution_count": null,
      "metadata": {
        "id": "9ItK5vKrHwpo"
      },
      "outputs": [],
      "source": [
        "!python3 -m pytest -l -v -k \"nn_conv_forward\""
      ]
    },
    {
      "cell_type": "code",
      "execution_count": null,
      "metadata": {
        "id": "BPu0Z-JUHwpo"
      },
      "outputs": [],
      "source": [
        "!python3 -m pytest -l -v -k \"nn_conv_backward\""
      ]
    },
    {
      "cell_type": "markdown",
      "metadata": {
        "id": "Z3YUCg0wHwpo"
      },
      "source": [
        "-----------------"
      ]
    },
    {
      "cell_type": "markdown",
      "metadata": {
        "id": "v5ZdpgRbHwpo"
      },
      "source": [
        "### Submit nn.Conv to mugrade [20 points]"
      ]
    },
    {
      "cell_type": "code",
      "execution_count": null,
      "metadata": {
        "id": "VDGT6MXtHwpo"
      },
      "outputs": [],
      "source": [
        "!python3 -m mugrade submit \"YOUR KEY HERE\" -k \"conv_forward\""
      ]
    },
    {
      "cell_type": "code",
      "execution_count": null,
      "metadata": {
        "id": "tzPhmZLLHwpo"
      },
      "outputs": [],
      "source": [
        "!python3 -m mugrade submit \"YOUR KEY HERE\" -k \"conv_backward\""
      ]
    },
    {
      "cell_type": "markdown",
      "metadata": {
        "id": "qcok0LqcHwpo"
      },
      "source": [
        "------------------------------------------------"
      ]
    },
    {
      "cell_type": "markdown",
      "metadata": {
        "tags": [],
        "id": "YuZlAZrqHwpo"
      },
      "source": [
        "### Implementing \"ResNet9\""
      ]
    },
    {
      "cell_type": "markdown",
      "metadata": {
        "id": "SmF4KCM2Hwpo"
      },
      "source": [
        "You will now use your convolutional layer to implement a model similar to _ResNet9_, which is known to be a reasonable model for getting good accuracy on CIFAR-10 quickly (see [here](https://github.com/davidcpage/cifar10-fast)). Our main change is that we used striding instead of pooling and divided all of the channels by 4 for the sake of performance (as our framework is not as well-optimized as industry-grade frameworks).\n",
        "\n",
        "In the figure below, before the first linear layer, you should \"flatten\" the tensor. You can use the module `Flatten` in `nn_basic.py`, or you can simply use `.reshape` in the `forward()` method of your ResNet9.\n",
        "\n",
        "Make sure that you pass the device to all modules in your model; otherwise, you will get errors about mismatched devices when trying to run with CUDA.\n",
        "\n",
        "<center><img src=\"https://github.com/dlsyscourse/hw4/blob/main/ResNet9.png?raw=true\" alt=\"ResNet9\" style=\"width: 400px;\" /></center>\n",
        "\n",
        "We have tried to make it easier to pass the tests here than for previous assignments where you have implemented models. In particular, we are just going to make sure it has the right number of parameters and similar accuracy and loss after 1 or 2 batches of CIFAR-10."
      ]
    },
    {
      "cell_type": "code",
      "execution_count": null,
      "metadata": {
        "tags": [],
        "id": "OV_WfYdiHwpp"
      },
      "outputs": [],
      "source": [
        "!python3 -m pytest -l -v -k \"resnet9\""
      ]
    },
    {
      "cell_type": "markdown",
      "metadata": {
        "id": "6tnka6WVHwpp"
      },
      "source": [
        "Now we can train a ResNet on CIFAR10: (remember to copy the solutions in `python/needle/optim.py` from previous homeworks)"
      ]
    },
    {
      "cell_type": "code",
      "execution_count": null,
      "metadata": {
        "id": "0FVRwwS8Hwpp"
      },
      "outputs": [],
      "source": [
        "!python3 -m pytest -l -v -k \"train_cifar10\""
      ]
    },
    {
      "cell_type": "markdown",
      "metadata": {
        "id": "dE3l6wv4Hwpp"
      },
      "source": [
        "### Submit ResNet9 to mugrade [10 points]"
      ]
    },
    {
      "cell_type": "code",
      "execution_count": null,
      "metadata": {
        "id": "FZcXZzudHwpp"
      },
      "outputs": [],
      "source": [
        "!python3 -m mugrade submit \"YOUR KEY HERE\" -k \"resnet9\""
      ]
    },
    {
      "cell_type": "markdown",
      "metadata": {
        "id": "Q5ma2t62Hwpp"
      },
      "source": [
        "-----------------"
      ]
    },
    {
      "cell_type": "markdown",
      "metadata": {
        "id": "wlr4n2IPHwpp"
      },
      "source": [
        "Now, you can train your model on CIFAR-10 using the following code. Note that this is likely going to be quite slow, and also  not all that accurate due to the lack of data augmentation. You should expect it to take around 500s per epoch."
      ]
    },
    {
      "cell_type": "code",
      "execution_count": null,
      "metadata": {
        "id": "iIt3CX5aHwpp"
      },
      "outputs": [],
      "source": [
        "import sys\n",
        "sys.path.append('./python')\n",
        "sys.path.append('./apps')\n",
        "import needle as ndl\n",
        "from models import ResNet9\n",
        "from simple_ml import train_cifar10, evaluate_cifar10\n",
        "\n",
        "device = ndl.cpu()\n",
        "dataset = ndl.data.CIFAR10Dataset(\"data/cifar-10-batches-py\", train=True)\n",
        "dataloader = ndl.data.DataLoader(\\\n",
        "         dataset=dataset,\n",
        "         batch_size=128,\n",
        "         shuffle=True,)\n",
        "model = ResNet9(device=device, dtype=\"float32\")\n",
        "train_cifar10(model, dataloader, n_epochs=10, optimizer=ndl.optim.Adam,\n",
        "      lr=0.001, weight_decay=0.001)\n",
        "evaluate_cifar10(model, dataloader)"
      ]
    },
    {
      "cell_type": "markdown",
      "metadata": {
        "id": "36tCWcm-Hwpp"
      },
      "source": [
        "## Part 4: Recurrent neural network [10 points]\n",
        "\n",
        "**Note:** In the following sections, you may find yourself wanting to index into tensors, i.e., to use getitem or setitem. However, we have not implemented these for tensors in our library; instead, you should use `stack` and `split` operations.\n",
        "\n",
        "In `python/needle/nn_sequence.py`, implement `RNNCell`.\n",
        "\n",
        "$h^\\prime = \\text{tanh}(xW_{ih} + b_{ih} + hW_{hh} + b_{hh})$. If nonlinearity is 'relu', then ReLU is used in place of tanh.\n",
        "\n",
        "All weights and biases should be uniformly initialized on the interval $\\displaystyle\\pm\\frac{1}{\\sqrt{\\verb|hidden_size|}}$.\n",
        "\n",
        "In `python/needle/nn_sequence.py`, implement `RNN`.\n",
        "\n",
        "For each element in the input sequence, each layer computes the following function:\n",
        "\n",
        "$h_t = \\text{tanh}(x_tW_{ih} + b_{ih} + h_{(t-1)}W_{hh} + b_{hh})$\n",
        "\n",
        "where $h_t$ is the hidden state at time $t$, $x_t$ is the input at time $t$, and $h_{(t-1)}$ is the hidden state of the previous layer at time $t-1$ or the initial hidden state at time $0$. If nonlinearity is 'relu', then ReLU is used in place of tanh.\n",
        "\n",
        "In a multi-layer RNN, the input $x_t^{(l)}$ of the $l$-th layer ($l \\ge 2$) is the hidden state $h_t^{(l-1)}$ of the previous layer.\n"
      ]
    },
    {
      "cell_type": "code",
      "execution_count": null,
      "metadata": {
        "id": "i4IPlDTXHwpp"
      },
      "outputs": [],
      "source": [
        "!python3 -m pytest -l -v -k \"test_rnn\""
      ]
    },
    {
      "cell_type": "code",
      "execution_count": null,
      "metadata": {
        "id": "viCjoEaEHwpp"
      },
      "outputs": [],
      "source": [
        "!python3 -m mugrade submit \"YOUR KEY HERE\" -k \"rnn\""
      ]
    },
    {
      "cell_type": "markdown",
      "metadata": {
        "id": "XEeqPuaRHwpp"
      },
      "source": [
        "## Part 5: Long short-term memory network [10 points]\n",
        "In `python/needle/nn/nn_sequence.py`, implement `Sigmoid`.\n",
        "\n",
        "$$\\sigma(x) = \\frac{1}{1 + \\text{exp}(-x)}$$\n",
        "\n",
        "In `python/needle/nn/nn_sequence.py`, implement `LSTMCell`.\n",
        "\n",
        "\\begin{align*}\n",
        "i &= \\sigma(xW_{ii} + b_{ii} + hW_{hi} + b_{hi}) \\\\\n",
        "f &= \\sigma(xW_{if} + b_{if} + hW_{hf} + b_{hf}) \\\\\n",
        "g &= \\text{tanh}(xW_{ig} + b_{ig} + hW_{hg} + b_{hg}) \\\\\n",
        "o &= \\sigma(xW_{io} + b_{io} + hW_{ho} + b_{ho}) \\\\\n",
        "c^\\prime &= f * c + i * g \\\\\n",
        "h^\\prime &= o * \\text{tanh}(c^\\prime)\n",
        "\\end{align*}\n",
        "\n",
        "where $\\sigma$ is the sigmoid function, and $i$, $f$, $g$, $o$ are the input, forget, cell, and output gates, respectively.\n",
        "\n",
        "All weights and biases should be uniformly initialized on the interval $\\displaystyle\\pm\\frac{1}{\\sqrt{\\verb|hidden_size|}}$.\n",
        "\n",
        "Now implement `LSTM` in `python/needle/nn/nn_sequence.py`, which applies a multi-layer LSTM RNN to an input sequence. For each element in the input sequence, each layer computes the following function:\n",
        "\n",
        "\\begin{align*}\n",
        "i_t &= \\sigma(x_tW_{ii} + b_{ii} + h_{(t-1)}W_{hi} + b_{hi}) \\\\\n",
        "f_t &= \\sigma(x_tW_{if} + b_{if} + h_{(t-1)}W_{hf} + b_{hf}) \\\\\n",
        "g_t &= \\text{tanh}(x_tW_{ig} + b_{ig} + h_{(t-1)}W_{hg} + b_{hg}) \\\\\n",
        "o_t &= \\sigma(x_tW_{io} + b_{io} + h_{(t-1)}W_{ho} + b_{ho}) \\\\\n",
        "c_t &= f * c_{(t-1)} + i * g \\\\\n",
        "h_t &= o * \\text{tanh}(c_t)\n",
        "\\end{align*}\n",
        "\n",
        "where $h_t$ is the hidden state at time $t$, $c_t$ is the cell state at time $t$, $x_t$ is the input at time $t$, $h_{(t-1)}$ is the hidden state of the layer at time $t-1$ or the initial hidden state at time $0$, and $i_t$, $f_t$, $g_t$, $o_t$ are the input, forget, cell, and output gates at time $t$ respectively.\n",
        "\n",
        "In a multi-layer LSTM, the input $x_t^{(l)}$ of the $l$-th layer ($l \\ge 2$) is the hidden state $h_t^{(l-1)}$ of the previous layer."
      ]
    },
    {
      "cell_type": "code",
      "execution_count": null,
      "metadata": {
        "id": "GtuSTiqLHwpp"
      },
      "outputs": [],
      "source": [
        "!python3 -m pytest -l -v -k \"test_lstm\""
      ]
    },
    {
      "cell_type": "code",
      "execution_count": null,
      "metadata": {
        "id": "ESvJ2vjzHwpq"
      },
      "outputs": [],
      "source": [
        "!python3 -m mugrade submit \"YOUR KEY HERE\" -k \"lstm\""
      ]
    },
    {
      "cell_type": "markdown",
      "metadata": {
        "id": "KNWK_s97Hwpq"
      },
      "source": [
        "## Part 6: Penn Treebank dataset [10 points]\n",
        "\n",
        "In word-level language modeling tasks, the model predicts the probability of the next word in the sequence, based on the words already observed in the sequence. You will write support for the Penn Treebank dataset, which consists of stories from the Wall Street Journal, to train and evaluate a language model on word-level prediction.\n",
        "\n",
        "In `python/needle/data/datasets/ptb_dataset.py`, start by implementing the `Dictionary` class, which creates a dictionary from a list of words, mapping each word to a unique integer.\n",
        "\n",
        "Next, we will use this `Dictionary` class to create a corpus from the train and test txt files in the Penn Treebank dataset that you downloaded at the beginning of the notebook. Implement the `tokenize` function in the `Corpus` class to do this.\n",
        "\n",
        "In order to prepare the data for training and evaluation, you will next implement the `batchify` function. Starting from sequential data, batchify arranges the dataset into columns. For instance, with the alphabet as the sequence and batch size 4, we'd get\n",
        "\n",
        "```\n",
        "┌ a g m s ┐\n",
        "│ b h n t │\n",
        "│ c i o u │\n",
        "│ d j p v │\n",
        "│ e k q w │\n",
        "└ f l r x ┘\n",
        "```\n",
        "\n",
        "These columns are treated as independent by the model, which means that the dependence of e. g. 'g' on 'f' cannot be learned, but allows more efficient batch processing.\n",
        "\n",
        "Next, implement the `get_batch` function. `get_batch` subdivides the source data into chunks of length `bptt`. If source is equal to the example output of the batchify function, with a bptt-limit of 2, we'd get the following two `Tensor`s for i = 0:\n",
        "```\n",
        "┌ a g m s ┐ ┌ b h n t ┐\n",
        "└ b h n t ┘ └ c i o u ┘\n",
        "```\n",
        "Note that despite the name of the function, the subdivison of data is not done along the batch dimension (i.e. dimension 1), since that was handled by the batchify function. The chunks are along dimension 0, corresponding to the seq_len dimension in the LSTM or RNN. Also, as per the function docs, the second returned `Tensor` (the targets) should be reshaped to be 1-dimensional."
      ]
    },
    {
      "cell_type": "code",
      "execution_count": null,
      "metadata": {
        "id": "BaxpT1w4Hwpq"
      },
      "outputs": [],
      "source": [
        "!python3 -m pytest -l -v -k \"ptb\""
      ]
    },
    {
      "cell_type": "code",
      "execution_count": null,
      "metadata": {
        "id": "cXiYIuqOHwpq"
      },
      "outputs": [],
      "source": [
        "!python3 -m mugrade submit \"YOUR KEY HERE\" -k \"ptb\""
      ]
    },
    {
      "cell_type": "markdown",
      "metadata": {
        "id": "rfrKWpxaHwpq"
      },
      "source": [
        "## Part 7: Training a word-level language model [10 points]\n",
        "\n",
        "Finally, you will use the `RNN` and `LSTM` components you have written to construct a language model that we will train on the Penn Treebank dataset.\n",
        "\n",
        "First, in `python/needle/nn/nn_sequence.py` implement `Embedding`. Consider we have a dictionary with 1000 words. Then for a word which indexes into this dictionary, we can represent this word as a one-hot vector of size 1000, and then use a linear layer to project this to a vector of some embedding size.\n",
        "\n",
        "In `apps/models.py`, you can now implement `LanguageModel`. Your language model should consist of\n",
        "\n",
        "- An embedding layer (which maps word IDs to embeddings)\n",
        "- A sequence model (either RNN or LSTM)\n",
        "- A linear layer (which outputs probabilities of the next word)\n",
        "\n",
        "In `apps/simple_ml.py` implement `epoch_general_ptb`, `train_ptb`, and `evaluate_ptb`."
      ]
    },
    {
      "cell_type": "code",
      "execution_count": null,
      "metadata": {
        "id": "D5URZCvdHwpq"
      },
      "outputs": [],
      "source": [
        "!python3 -m pytest -l -v -k \"language_model_implementation\""
      ]
    },
    {
      "cell_type": "code",
      "execution_count": null,
      "metadata": {
        "id": "2XpNy5KLHwpq"
      },
      "outputs": [],
      "source": [
        "!python3 -m pytest -l -v -k \"language_model_training\""
      ]
    },
    {
      "cell_type": "code",
      "execution_count": null,
      "metadata": {
        "id": "btu8cSIgHwpq"
      },
      "outputs": [],
      "source": [
        "!python3 -m mugrade submit \"YOUR KEY HERE\" -k \"language_model\""
      ]
    },
    {
      "cell_type": "markdown",
      "metadata": {
        "id": "akQSFpB1Hwpq"
      },
      "source": [
        "Now, you can train your language model on the Penn Treebank dataset:"
      ]
    },
    {
      "cell_type": "code",
      "execution_count": null,
      "metadata": {
        "id": "jxYyfy3rHwpq"
      },
      "outputs": [],
      "source": [
        "import needle as ndl\n",
        "sys.path.append('./apps')\n",
        "from models import LanguageModel\n",
        "from simple_ml import train_ptb, evaluate_ptb\n",
        "\n",
        "device = ndl.cpu()\n",
        "corpus = ndl.data.Corpus(\"data/ptb\")\n",
        "train_data = ndl.data.batchify(corpus.train, batch_size=16, device=ndl.cpu(), dtype=\"float32\")\n",
        "model = LanguageModel(30, len(corpus.dictionary), hidden_size=10, num_layers=2, seq_model='rnn', device=ndl.cpu())\n",
        "train_ptb(model, train_data, seq_len=1, n_epochs=1, device=device)\n",
        "evaluate_ptb(model, train_data, seq_len=40, device=device)"
      ]
    }
  ],
  "metadata": {
    "kernelspec": {
      "display_name": "Python 3 (ipykernel)",
      "language": "python",
      "name": "python3"
    },
    "language_info": {
      "codemirror_mode": {
        "name": "ipython",
        "version": 3
      },
      "file_extension": ".py",
      "mimetype": "text/x-python",
      "name": "python",
      "nbconvert_exporter": "python",
      "pygments_lexer": "ipython3",
      "version": "3.9.17"
    },
    "colab": {
      "provenance": []
    }
  },
  "nbformat": 4,
  "nbformat_minor": 0
}